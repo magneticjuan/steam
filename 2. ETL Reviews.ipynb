{
 "cells": [
  {
   "cell_type": "markdown",
   "metadata": {},
   "source": [
    "# **ETL Reviews**\n",
    "\n",
    "<div style=\"text-align: justify\">\n",
    "En este notebook de Python, se detallarán los pasos necesarios para llevar a cabo un proceso de ETL (Extract, Transform, Load) en un dataframe que denominaremos \"reviews\". Los datos que utilizaremos provienen originalmente de un archivo JSON llamado \"australian_users_review.json\". A lo largo de este documento, se explorarán las etapas de extracción, transformación y carga de datos con el objetivo de preparar el conjunto de datos para su posterior análisis y uso en aplicaciones o modelos de aprendizaje automático.\n",
    "</div>"
   ]
  },
  {
   "cell_type": "markdown",
   "metadata": {},
   "source": [
    "## 1. Importación de las librerias\n",
    "\n",
    "<div style=\"text-align: justify\">\n",
    "Importar bibliotecas en un ETL es esencial para aprovechar las funcionalidades predefinidas que simplifican tareas como la extracción, transformación y carga de datos. Esto ahorra tiempo y esfuerzo, asegurando un desarrollo eficiente y la creación de procesos ETL más sólidos y confiables.\n",
    "</div>"
   ]
  },
  {
   "cell_type": "code",
   "execution_count": 25,
   "metadata": {},
   "outputs": [],
   "source": [
    "import pandas as pd\n",
    "import funciones_basicas as fb\n",
    "import pyarrow as pa  \n",
    "import pyarrow.parquet as pq\n",
    "from datetime import datetime, timedelta\n",
    "import ast"
   ]
  },
  {
   "cell_type": "markdown",
   "metadata": {},
   "source": [
    "## 2. Carga de los datos\n",
    "\n",
    "En estas lineas de código cargaremos los datos y creamos el dataframe de pandas en el que vamos a realizar el proceso de ETL, todo basado en un arhivo llamado *australian_users_review.json*, como presenta una estructura diferente a nuestro primer dataframe, usaremos otro metodo para abirlo"
   ]
  },
  {
   "cell_type": "code",
   "execution_count": 14,
   "metadata": {},
   "outputs": [
    {
     "data": {
      "text/html": [
       "<div>\n",
       "<style scoped>\n",
       "    .dataframe tbody tr th:only-of-type {\n",
       "        vertical-align: middle;\n",
       "    }\n",
       "\n",
       "    .dataframe tbody tr th {\n",
       "        vertical-align: top;\n",
       "    }\n",
       "\n",
       "    .dataframe thead th {\n",
       "        text-align: right;\n",
       "    }\n",
       "</style>\n",
       "<table border=\"1\" class=\"dataframe\">\n",
       "  <thead>\n",
       "    <tr style=\"text-align: right;\">\n",
       "      <th></th>\n",
       "      <th>user_id</th>\n",
       "      <th>user_url</th>\n",
       "      <th>reviews</th>\n",
       "    </tr>\n",
       "  </thead>\n",
       "  <tbody>\n",
       "    <tr>\n",
       "      <th>0</th>\n",
       "      <td>76561197970982479</td>\n",
       "      <td>http://steamcommunity.com/profiles/76561197970...</td>\n",
       "      <td>[{'funny': '', 'posted': 'Posted November 5, 2...</td>\n",
       "    </tr>\n",
       "    <tr>\n",
       "      <th>1</th>\n",
       "      <td>js41637</td>\n",
       "      <td>http://steamcommunity.com/id/js41637</td>\n",
       "      <td>[{'funny': '', 'posted': 'Posted June 24, 2014...</td>\n",
       "    </tr>\n",
       "    <tr>\n",
       "      <th>2</th>\n",
       "      <td>evcentric</td>\n",
       "      <td>http://steamcommunity.com/id/evcentric</td>\n",
       "      <td>[{'funny': '', 'posted': 'Posted February 3.',...</td>\n",
       "    </tr>\n",
       "    <tr>\n",
       "      <th>3</th>\n",
       "      <td>doctr</td>\n",
       "      <td>http://steamcommunity.com/id/doctr</td>\n",
       "      <td>[{'funny': '', 'posted': 'Posted October 14, 2...</td>\n",
       "    </tr>\n",
       "    <tr>\n",
       "      <th>4</th>\n",
       "      <td>maplemage</td>\n",
       "      <td>http://steamcommunity.com/id/maplemage</td>\n",
       "      <td>[{'funny': '3 people found this review funny',...</td>\n",
       "    </tr>\n",
       "  </tbody>\n",
       "</table>\n",
       "</div>"
      ],
      "text/plain": [
       "             user_id                                           user_url  \\\n",
       "0  76561197970982479  http://steamcommunity.com/profiles/76561197970...   \n",
       "1            js41637               http://steamcommunity.com/id/js41637   \n",
       "2          evcentric             http://steamcommunity.com/id/evcentric   \n",
       "3              doctr                 http://steamcommunity.com/id/doctr   \n",
       "4          maplemage             http://steamcommunity.com/id/maplemage   \n",
       "\n",
       "                                             reviews  \n",
       "0  [{'funny': '', 'posted': 'Posted November 5, 2...  \n",
       "1  [{'funny': '', 'posted': 'Posted June 24, 2014...  \n",
       "2  [{'funny': '', 'posted': 'Posted February 3.',...  \n",
       "3  [{'funny': '', 'posted': 'Posted October 14, 2...  \n",
       "4  [{'funny': '3 people found this review funny',...  "
      ]
     },
     "execution_count": 14,
     "metadata": {},
     "output_type": "execute_result"
    }
   ],
   "source": [
    "datos_filas = []\n",
    "\n",
    "with open('Datasets\\\\australian_user_reviews.json', 'r', encoding='utf-8') as archivo:  \n",
    "    for linea in archivo:  \n",
    "        datos_filas.append(ast.literal_eval(linea))\n",
    "\n",
    "reviews = pd.DataFrame(datos_filas)\n",
    "reviews.head()"
   ]
  },
  {
   "cell_type": "markdown",
   "metadata": {},
   "source": [
    "## 3. Transformaciones\n",
    "\n",
    "<div style='text-align: justify'>\n",
    "En esta sección realizaremos las primeras transformaciones, estas transformaciones se realizan como una buena practica y son transversales a cualquier tipo de datos no importa su contenido, posterior a esas transformacioens inspeccionaremos a fondo la información del dataframe y realizaremos todos los procesos correspondientes, partiendo de ahi. \n",
    "</div>"
   ]
  },
  {
   "cell_type": "code",
   "execution_count": 15,
   "metadata": {},
   "outputs": [
    {
     "name": "stdout",
     "output_type": "stream",
     "text": [
      "Porcentaje de datos vacíos por columna en el DataFrame:\n",
      "user_id: 0.00%\n",
      "user_url: 0.00%\n",
      "reviews: 0.00%\n",
      "Total de datos vacíos en el DataFrame: 0.00%\n"
     ]
    }
   ],
   "source": [
    "fb.porcentaje_datos_vacios(reviews)"
   ]
  },
  {
   "cell_type": "code",
   "execution_count": 16,
   "metadata": {},
   "outputs": [],
   "source": [
    "datos_editados = reviews.explode('reviews')  # Divide las listas anidadas dentro de la columna 'review' en filas separadas.\n",
    "datos_normalizados = pd.json_normalize(datos_editados['reviews'].dropna())  # Normaliza los datos JSON anidados en la columna 'reviews'.\n",
    "datos_normalizados.reset_index(inplace=True)  # Reinicia los índices del DataFrame normalizado.\n",
    "datos_editados.reset_index(inplace=True)  # Reinicia los índices del DataFrame editado.\n",
    "\n",
    "reviews = pd.concat([datos_editados, datos_normalizados], axis=1)  # Concatena los DataFrames editados y normalizados a lo largo de las columnas.\n",
    "reviews = reviews.drop(columns=['reviews', 'index'])  # Elimina las columnas 'reseñas' e 'index' del DataFrame procesado."
   ]
  },
  {
   "cell_type": "code",
   "execution_count": 17,
   "metadata": {},
   "outputs": [],
   "source": [
    "# Normalizamos el texto del dataframe\n",
    "reviews = reviews.map(fb.normalizar_texto)"
   ]
  },
  {
   "cell_type": "code",
   "execution_count": 18,
   "metadata": {},
   "outputs": [],
   "source": [
    "# Tratamiento de los datos duplicados y nulos\n",
    "reviews = reviews.drop_duplicates(keep='first')\n",
    "reviews = reviews.dropna().reset_index(drop=True)"
   ]
  },
  {
   "cell_type": "code",
   "execution_count": 19,
   "metadata": {},
   "outputs": [],
   "source": [
    "# Manejo de la columan fecha\n",
    "reviews['posted'] = reviews['posted'].str.replace('POSTED', '') # Eliminamos la palabra posted de los valores de la columna\n",
    "\n",
    "# Extraer el año de la columna 'posted'\n",
    "reviews['posted'] = reviews['posted'].str.extract(r'(\\d{4})')\n",
    "\n",
    "# Convertir el año a formato de fecha %y (año de dos dígitos)\n",
    "reviews['posted'] = pd.to_datetime(reviews['posted'], errors='coerce').dt.strftime('%Y')\n",
    "\n",
    "# Rellenar los valores NaN con método de interpolación\n",
    "reviews['posted'] = reviews['posted'].astype(float)  # Convertir a float para que la interpolación funcione correctamente\n",
    "reviews['posted'] = reviews['posted'].interpolate(method='linear', limit_direction='both')\n",
    "reviews['posted'] = reviews['posted'].astype(int)  # Convertir de nuevo a int después de la interpolación"
   ]
  },
  {
   "cell_type": "code",
   "execution_count": 20,
   "metadata": {},
   "outputs": [],
   "source": [
    "# Aplica la función de análisis de sentimiento a la columna 'reseña' y almacena los resultados en una nueva columna 'analisis_sentimiento'.\n",
    "reviews[\"analisis_sentimiento\"] = reviews[\"review\"].astype(str).apply(fb.analizar_sentimiento)"
   ]
  },
  {
   "cell_type": "code",
   "execution_count": 21,
   "metadata": {},
   "outputs": [],
   "source": [
    "# Elimina las columnas irrelevantes del DataFrame procesado.\n",
    "reviews = reviews.drop(columns=[\"review\", \"funny\", \"last_edited\", \"helpful\", \"user_url\"])"
   ]
  },
  {
   "cell_type": "code",
   "execution_count": 22,
   "metadata": {},
   "outputs": [
    {
     "name": "stdout",
     "output_type": "stream",
     "text": [
      "Porcentaje de datos vacíos por columna en el DataFrame:\n",
      "user_id: 0.00%\n",
      "posted: 0.00%\n",
      "item_id: 0.00%\n",
      "recommend: 0.00%\n",
      "analisis_sentimiento: 0.00%\n",
      "Total de datos vacíos en el DataFrame: 0.00%\n"
     ]
    }
   ],
   "source": [
    "fb.porcentaje_datos_vacios(reviews)"
   ]
  },
  {
   "cell_type": "code",
   "execution_count": 23,
   "metadata": {},
   "outputs": [
    {
     "data": {
      "text/html": [
       "<div>\n",
       "<style scoped>\n",
       "    .dataframe tbody tr th:only-of-type {\n",
       "        vertical-align: middle;\n",
       "    }\n",
       "\n",
       "    .dataframe tbody tr th {\n",
       "        vertical-align: top;\n",
       "    }\n",
       "\n",
       "    .dataframe thead th {\n",
       "        text-align: right;\n",
       "    }\n",
       "</style>\n",
       "<table border=\"1\" class=\"dataframe\">\n",
       "  <thead>\n",
       "    <tr style=\"text-align: right;\">\n",
       "      <th></th>\n",
       "      <th>user_id</th>\n",
       "      <th>posted</th>\n",
       "      <th>item_id</th>\n",
       "      <th>recommend</th>\n",
       "      <th>analisis_sentimiento</th>\n",
       "    </tr>\n",
       "  </thead>\n",
       "  <tbody>\n",
       "    <tr>\n",
       "      <th>0</th>\n",
       "      <td>76561197970982479</td>\n",
       "      <td>2011</td>\n",
       "      <td>1250</td>\n",
       "      <td>True</td>\n",
       "      <td>2</td>\n",
       "    </tr>\n",
       "    <tr>\n",
       "      <th>1</th>\n",
       "      <td>76561197970982479</td>\n",
       "      <td>2011</td>\n",
       "      <td>22200</td>\n",
       "      <td>True</td>\n",
       "      <td>1</td>\n",
       "    </tr>\n",
       "    <tr>\n",
       "      <th>2</th>\n",
       "      <td>76561197970982479</td>\n",
       "      <td>2011</td>\n",
       "      <td>43110</td>\n",
       "      <td>True</td>\n",
       "      <td>2</td>\n",
       "    </tr>\n",
       "    <tr>\n",
       "      <th>3</th>\n",
       "      <td>JS41637</td>\n",
       "      <td>2014</td>\n",
       "      <td>251610</td>\n",
       "      <td>True</td>\n",
       "      <td>2</td>\n",
       "    </tr>\n",
       "    <tr>\n",
       "      <th>4</th>\n",
       "      <td>JS41637</td>\n",
       "      <td>2013</td>\n",
       "      <td>227300</td>\n",
       "      <td>True</td>\n",
       "      <td>2</td>\n",
       "    </tr>\n",
       "  </tbody>\n",
       "</table>\n",
       "</div>"
      ],
      "text/plain": [
       "             user_id  posted item_id recommend  analisis_sentimiento\n",
       "0  76561197970982479    2011    1250      True                     2\n",
       "1  76561197970982479    2011   22200      True                     1\n",
       "2  76561197970982479    2011   43110      True                     2\n",
       "3            JS41637    2014  251610      True                     2\n",
       "4            JS41637    2013  227300      True                     2"
      ]
     },
     "execution_count": 23,
     "metadata": {},
     "output_type": "execute_result"
    }
   ],
   "source": [
    "reviews.head()"
   ]
  },
  {
   "cell_type": "code",
   "execution_count": 24,
   "metadata": {},
   "outputs": [
    {
     "data": {
      "text/html": [
       "<div>\n",
       "<style scoped>\n",
       "    .dataframe tbody tr th:only-of-type {\n",
       "        vertical-align: middle;\n",
       "    }\n",
       "\n",
       "    .dataframe tbody tr th {\n",
       "        vertical-align: top;\n",
       "    }\n",
       "\n",
       "    .dataframe thead th {\n",
       "        text-align: right;\n",
       "    }\n",
       "</style>\n",
       "<table border=\"1\" class=\"dataframe\">\n",
       "  <thead>\n",
       "    <tr style=\"text-align: right;\">\n",
       "      <th></th>\n",
       "      <th>ID_USUARIO</th>\n",
       "      <th>AÑO_LANZAMIENTO</th>\n",
       "      <th>ID_GAME</th>\n",
       "      <th>RECOMIENDA</th>\n",
       "      <th>SENTIMIENTO</th>\n",
       "    </tr>\n",
       "  </thead>\n",
       "  <tbody>\n",
       "    <tr>\n",
       "      <th>0</th>\n",
       "      <td>76561197970982479</td>\n",
       "      <td>2011</td>\n",
       "      <td>1250</td>\n",
       "      <td>True</td>\n",
       "      <td>2</td>\n",
       "    </tr>\n",
       "    <tr>\n",
       "      <th>1</th>\n",
       "      <td>76561197970982479</td>\n",
       "      <td>2011</td>\n",
       "      <td>22200</td>\n",
       "      <td>True</td>\n",
       "      <td>1</td>\n",
       "    </tr>\n",
       "    <tr>\n",
       "      <th>2</th>\n",
       "      <td>76561197970982479</td>\n",
       "      <td>2011</td>\n",
       "      <td>43110</td>\n",
       "      <td>True</td>\n",
       "      <td>2</td>\n",
       "    </tr>\n",
       "  </tbody>\n",
       "</table>\n",
       "</div>"
      ],
      "text/plain": [
       "          ID_USUARIO  AÑO_LANZAMIENTO ID_GAME RECOMIENDA  SENTIMIENTO\n",
       "0  76561197970982479             2011    1250       True            2\n",
       "1  76561197970982479             2011   22200       True            1\n",
       "2  76561197970982479             2011   43110       True            2"
      ]
     },
     "execution_count": 24,
     "metadata": {},
     "output_type": "execute_result"
    }
   ],
   "source": [
    "nuevos_nombres = {'user_id':'ID_USUARIO',\n",
    "                  'posted':'AÑO_LANZAMIENTO',\n",
    "                  'item_id':'ID_GAME',\n",
    "                  'recommend':'RECOMIENDA',\n",
    "                  'analisis_sentimiento':'SENTIMIENTO'}\n",
    "\n",
    "reviews = reviews.rename(columns=nuevos_nombres)\n",
    "reviews.head(3)"
   ]
  },
  {
   "cell_type": "markdown",
   "metadata": {},
   "source": [
    "## 4. Guardamos el archivo\n",
    "\n",
    "<div style=\"text-align: justify\">\n",
    "Despues de realizadas todas las transformaciones necesarias para manejar el dataframe en futuros analisis, procedemos a guardar el documento en un formato tipo parquet para que su lectura y escritura sea más sencilla\n",
    "</div>"
   ]
  },
  {
   "cell_type": "code",
   "execution_count": 26,
   "metadata": {},
   "outputs": [],
   "source": [
    "fb.guardar_datos(reviews, \"PARQUET\\\\REVIEWS.parquet\")"
   ]
  }
 ],
 "metadata": {
  "kernelspec": {
   "display_name": "Python 3",
   "language": "python",
   "name": "python3"
  },
  "language_info": {
   "codemirror_mode": {
    "name": "ipython",
    "version": 3
   },
   "file_extension": ".py",
   "mimetype": "text/x-python",
   "name": "python",
   "nbconvert_exporter": "python",
   "pygments_lexer": "ipython3",
   "version": "3.11.8"
  }
 },
 "nbformat": 4,
 "nbformat_minor": 2
}
