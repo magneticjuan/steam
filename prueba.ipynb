{
 "cells": [
  {
   "cell_type": "code",
   "execution_count": 1,
   "metadata": {},
   "outputs": [],
   "source": [
    "#librerías\n",
    "from fastapi import FastAPI, Query, HTTPException\n",
    "from fastapi.responses import HTMLResponse\n",
    "from typing import Dict, List, Union, Tuple\n",
    "import pandas as pd\n",
    "from pandas.core.frame import DataFrame\n",
    "import scipy as sp\n",
    "import pyarrow as pa\n",
    "import pyarrow.parquet as pq\n",
    "from sklearn.metrics.pairwise import cosine_similarity\n",
    "from typing import List, Optional\n",
    "from pydantic import BaseModel\n",
    "import"
   ]
  },
  {
   "cell_type": "code",
   "execution_count": 3,
   "metadata": {},
   "outputs": [],
   "source": [
    "# Instanciamos la aplicación\n",
    "\n",
    "app = FastAPI()\n",
    "\n",
    "# Dentro del script\n",
    "df_EP1 = pq.read_table(\"PARQUET\\TABLAS UNIDAS\\DESARROLLADOR.parquet\").to_pandas()\n",
    "df_EP2 = pq.read_table(\"PARQUET\\TABLAS UNIDAS\\GASTO.parquet\").to_pandas()\n",
    "df_EP3 = pq.read_table(\"PARQUET\\\\TABLAS UNIDAS\\\\USUARIO_GENERO.parquet\").to_pandas()\n",
    "df_EP4 = pq.read_table(\"PARQUET\\TABLAS UNIDAS\\TOP_DEV.parquet\").to_pandas()\n",
    "df_EP5 = pq.read_table(\"PARQUET\\TABLAS UNIDAS\\SENT_DEV.parquet\").to_pandas()\n",
    "modelo_games = pq.read_table(\"PARQUET\\TABLAS UNIDAS\\MODELO_TRAIN.parquet\").to_pandas()"
   ]
  },
  {
   "cell_type": "code",
   "execution_count": 4,
   "metadata": {},
   "outputs": [
    {
     "data": {
      "text/html": [
       "<div>\n",
       "<style scoped>\n",
       "    .dataframe tbody tr th:only-of-type {\n",
       "        vertical-align: middle;\n",
       "    }\n",
       "\n",
       "    .dataframe tbody tr th {\n",
       "        vertical-align: top;\n",
       "    }\n",
       "\n",
       "    .dataframe thead th {\n",
       "        text-align: right;\n",
       "    }\n",
       "</style>\n",
       "<table border=\"1\" class=\"dataframe\">\n",
       "  <thead>\n",
       "    <tr style=\"text-align: right;\">\n",
       "      <th></th>\n",
       "      <th>PRECIO</th>\n",
       "      <th>ID_GAME</th>\n",
       "      <th>DEVELOPER</th>\n",
       "      <th>AÑO</th>\n",
       "    </tr>\n",
       "  </thead>\n",
       "  <tbody>\n",
       "    <tr>\n",
       "      <th>0</th>\n",
       "      <td>9.99</td>\n",
       "      <td>282010</td>\n",
       "      <td>STAINLESS GAMES LTD</td>\n",
       "      <td>1997</td>\n",
       "    </tr>\n",
       "    <tr>\n",
       "      <th>1</th>\n",
       "      <td>9.99</td>\n",
       "      <td>70</td>\n",
       "      <td>VALVE</td>\n",
       "      <td>1998</td>\n",
       "    </tr>\n",
       "  </tbody>\n",
       "</table>\n",
       "</div>"
      ],
      "text/plain": [
       "   PRECIO ID_GAME            DEVELOPER   AÑO\n",
       "0    9.99  282010  STAINLESS GAMES LTD  1997\n",
       "1    9.99      70                VALVE  1998"
      ]
     },
     "execution_count": 4,
     "metadata": {},
     "output_type": "execute_result"
    }
   ],
   "source": [
    "df_EP1.head(2)"
   ]
  },
  {
   "cell_type": "code",
   "execution_count": 5,
   "metadata": {},
   "outputs": [
    {
     "data": {
      "text/html": [
       "<div>\n",
       "<style scoped>\n",
       "    .dataframe tbody tr th:only-of-type {\n",
       "        vertical-align: middle;\n",
       "    }\n",
       "\n",
       "    .dataframe tbody tr th {\n",
       "        vertical-align: top;\n",
       "    }\n",
       "\n",
       "    .dataframe thead th {\n",
       "        text-align: right;\n",
       "    }\n",
       "</style>\n",
       "<table border=\"1\" class=\"dataframe\">\n",
       "  <thead>\n",
       "    <tr style=\"text-align: right;\">\n",
       "      <th></th>\n",
       "      <th>PRECIO</th>\n",
       "      <th>ID_USUARIO</th>\n",
       "      <th>AÑO_LANZAMIENTO</th>\n",
       "      <th>RECOMIENDA</th>\n",
       "    </tr>\n",
       "  </thead>\n",
       "  <tbody>\n",
       "    <tr>\n",
       "      <th>0</th>\n",
       "      <td>9.99</td>\n",
       "      <td>BLAZINGTHEAMAZING</td>\n",
       "      <td>2014</td>\n",
       "      <td>True</td>\n",
       "    </tr>\n",
       "    <tr>\n",
       "      <th>1</th>\n",
       "      <td>9.99</td>\n",
       "      <td>EXIAEZ</td>\n",
       "      <td>2015</td>\n",
       "      <td>True</td>\n",
       "    </tr>\n",
       "  </tbody>\n",
       "</table>\n",
       "</div>"
      ],
      "text/plain": [
       "   PRECIO         ID_USUARIO  AÑO_LANZAMIENTO  RECOMIENDA\n",
       "0    9.99  BLAZINGTHEAMAZING             2014        True\n",
       "1    9.99             EXIAEZ             2015        True"
      ]
     },
     "execution_count": 5,
     "metadata": {},
     "output_type": "execute_result"
    }
   ],
   "source": [
    "df_EP2.head(2)"
   ]
  },
  {
   "cell_type": "code",
   "execution_count": 6,
   "metadata": {},
   "outputs": [
    {
     "data": {
      "text/html": [
       "<div>\n",
       "<style scoped>\n",
       "    .dataframe tbody tr th:only-of-type {\n",
       "        vertical-align: middle;\n",
       "    }\n",
       "\n",
       "    .dataframe tbody tr th {\n",
       "        vertical-align: top;\n",
       "    }\n",
       "\n",
       "    .dataframe thead th {\n",
       "        text-align: right;\n",
       "    }\n",
       "</style>\n",
       "<table border=\"1\" class=\"dataframe\">\n",
       "  <thead>\n",
       "    <tr style=\"text-align: right;\">\n",
       "      <th></th>\n",
       "      <th>GENEROS</th>\n",
       "      <th>ID_USUARIO</th>\n",
       "      <th>AÑO_LANZAMIENTO</th>\n",
       "      <th>HORAS_DE_JUEGO</th>\n",
       "    </tr>\n",
       "  </thead>\n",
       "  <tbody>\n",
       "    <tr>\n",
       "      <th>0</th>\n",
       "      <td>ACTION</td>\n",
       "      <td>MRPFRESH</td>\n",
       "      <td>2011</td>\n",
       "      <td>2.32</td>\n",
       "    </tr>\n",
       "    <tr>\n",
       "      <th>1</th>\n",
       "      <td>ACTION</td>\n",
       "      <td>ARMOUREDMARSHMALLOW</td>\n",
       "      <td>2014</td>\n",
       "      <td>13.13</td>\n",
       "    </tr>\n",
       "  </tbody>\n",
       "</table>\n",
       "</div>"
      ],
      "text/plain": [
       "  GENEROS           ID_USUARIO  AÑO_LANZAMIENTO  HORAS_DE_JUEGO\n",
       "0  ACTION             MRPFRESH             2011            2.32\n",
       "1  ACTION  ARMOUREDMARSHMALLOW             2014           13.13"
      ]
     },
     "execution_count": 6,
     "metadata": {},
     "output_type": "execute_result"
    }
   ],
   "source": [
    "df_EP3.head(2)"
   ]
  },
  {
   "cell_type": "code",
   "execution_count": 7,
   "metadata": {},
   "outputs": [
    {
     "data": {
      "text/html": [
       "<div>\n",
       "<style scoped>\n",
       "    .dataframe tbody tr th:only-of-type {\n",
       "        vertical-align: middle;\n",
       "    }\n",
       "\n",
       "    .dataframe tbody tr th {\n",
       "        vertical-align: top;\n",
       "    }\n",
       "\n",
       "    .dataframe thead th {\n",
       "        text-align: right;\n",
       "    }\n",
       "</style>\n",
       "<table border=\"1\" class=\"dataframe\">\n",
       "  <thead>\n",
       "    <tr style=\"text-align: right;\">\n",
       "      <th></th>\n",
       "      <th>DEVELOPER</th>\n",
       "      <th>AÑO</th>\n",
       "      <th>ID_USUARIO</th>\n",
       "      <th>RECOMIENDA</th>\n",
       "      <th>SENTIMIENTO</th>\n",
       "    </tr>\n",
       "  </thead>\n",
       "  <tbody>\n",
       "    <tr>\n",
       "      <th>0</th>\n",
       "      <td>STAINLESS GAMES LTD</td>\n",
       "      <td>1997</td>\n",
       "      <td>BLAZINGTHEAMAZING</td>\n",
       "      <td>True</td>\n",
       "      <td>1</td>\n",
       "    </tr>\n",
       "    <tr>\n",
       "      <th>1</th>\n",
       "      <td>VALVE</td>\n",
       "      <td>1998</td>\n",
       "      <td>EXIAEZ</td>\n",
       "      <td>True</td>\n",
       "      <td>1</td>\n",
       "    </tr>\n",
       "  </tbody>\n",
       "</table>\n",
       "</div>"
      ],
      "text/plain": [
       "             DEVELOPER   AÑO         ID_USUARIO  RECOMIENDA  SENTIMIENTO\n",
       "0  STAINLESS GAMES LTD  1997  BLAZINGTHEAMAZING        True            1\n",
       "1                VALVE  1998             EXIAEZ        True            1"
      ]
     },
     "execution_count": 7,
     "metadata": {},
     "output_type": "execute_result"
    }
   ],
   "source": [
    "df_EP4.head(2)"
   ]
  },
  {
   "cell_type": "code",
   "execution_count": 8,
   "metadata": {},
   "outputs": [
    {
     "data": {
      "text/html": [
       "<div>\n",
       "<style scoped>\n",
       "    .dataframe tbody tr th:only-of-type {\n",
       "        vertical-align: middle;\n",
       "    }\n",
       "\n",
       "    .dataframe tbody tr th {\n",
       "        vertical-align: top;\n",
       "    }\n",
       "\n",
       "    .dataframe thead th {\n",
       "        text-align: right;\n",
       "    }\n",
       "</style>\n",
       "<table border=\"1\" class=\"dataframe\">\n",
       "  <thead>\n",
       "    <tr style=\"text-align: right;\">\n",
       "      <th></th>\n",
       "      <th>DEVELOPER</th>\n",
       "      <th>SENTIMIENTO</th>\n",
       "    </tr>\n",
       "  </thead>\n",
       "  <tbody>\n",
       "    <tr>\n",
       "      <th>0</th>\n",
       "      <td>STAINLESS GAMES LTD</td>\n",
       "      <td>1</td>\n",
       "    </tr>\n",
       "    <tr>\n",
       "      <th>1</th>\n",
       "      <td>VALVE</td>\n",
       "      <td>1</td>\n",
       "    </tr>\n",
       "  </tbody>\n",
       "</table>\n",
       "</div>"
      ],
      "text/plain": [
       "             DEVELOPER  SENTIMIENTO\n",
       "0  STAINLESS GAMES LTD            1\n",
       "1                VALVE            1"
      ]
     },
     "execution_count": 8,
     "metadata": {},
     "output_type": "execute_result"
    }
   ],
   "source": [
    "df_EP5.head(2)"
   ]
  },
  {
   "cell_type": "code",
   "execution_count": 9,
   "metadata": {},
   "outputs": [
    {
     "data": {
      "text/html": [
       "<div>\n",
       "<style scoped>\n",
       "    .dataframe tbody tr th:only-of-type {\n",
       "        vertical-align: middle;\n",
       "    }\n",
       "\n",
       "    .dataframe tbody tr th {\n",
       "        vertical-align: top;\n",
       "    }\n",
       "\n",
       "    .dataframe thead th {\n",
       "        text-align: right;\n",
       "    }\n",
       "</style>\n",
       "<table border=\"1\" class=\"dataframe\">\n",
       "  <thead>\n",
       "    <tr style=\"text-align: right;\">\n",
       "      <th></th>\n",
       "      <th>ID_GAME</th>\n",
       "      <th>NOMBRE_JUEGO</th>\n",
       "      <th>_ACCOUNTING</th>\n",
       "      <th>_ACTION</th>\n",
       "      <th>_ADVENTURE</th>\n",
       "      <th>_ANIMATION &amp;AMP; MODELING</th>\n",
       "      <th>_AUDIO PRODUCTION</th>\n",
       "      <th>_CASUAL</th>\n",
       "      <th>_DESIGN &amp;AMP; ILLUSTRATION</th>\n",
       "      <th>_EARLY ACCESS</th>\n",
       "      <th>...</th>\n",
       "      <th>_PHOTO EDITING</th>\n",
       "      <th>_RACING</th>\n",
       "      <th>_RPG</th>\n",
       "      <th>_SIMULATION</th>\n",
       "      <th>_SOFTWARE TRAINING</th>\n",
       "      <th>_SPORTS</th>\n",
       "      <th>_STRATEGY</th>\n",
       "      <th>_UTILITIES</th>\n",
       "      <th>_VIDEO PRODUCTION</th>\n",
       "      <th>_WEB PUBLISHING</th>\n",
       "    </tr>\n",
       "  </thead>\n",
       "  <tbody>\n",
       "    <tr>\n",
       "      <th>0</th>\n",
       "      <td>10</td>\n",
       "      <td>COUNTER-STRIKE</td>\n",
       "      <td>0</td>\n",
       "      <td>1</td>\n",
       "      <td>0</td>\n",
       "      <td>0</td>\n",
       "      <td>0</td>\n",
       "      <td>0</td>\n",
       "      <td>0</td>\n",
       "      <td>0</td>\n",
       "      <td>...</td>\n",
       "      <td>0</td>\n",
       "      <td>0</td>\n",
       "      <td>0</td>\n",
       "      <td>0</td>\n",
       "      <td>0</td>\n",
       "      <td>0</td>\n",
       "      <td>0</td>\n",
       "      <td>0</td>\n",
       "      <td>0</td>\n",
       "      <td>0</td>\n",
       "    </tr>\n",
       "    <tr>\n",
       "      <th>1</th>\n",
       "      <td>1002</td>\n",
       "      <td>RAG DOLL KUNG FU</td>\n",
       "      <td>0</td>\n",
       "      <td>0</td>\n",
       "      <td>0</td>\n",
       "      <td>0</td>\n",
       "      <td>0</td>\n",
       "      <td>0</td>\n",
       "      <td>0</td>\n",
       "      <td>0</td>\n",
       "      <td>...</td>\n",
       "      <td>0</td>\n",
       "      <td>0</td>\n",
       "      <td>0</td>\n",
       "      <td>0</td>\n",
       "      <td>0</td>\n",
       "      <td>0</td>\n",
       "      <td>0</td>\n",
       "      <td>0</td>\n",
       "      <td>0</td>\n",
       "      <td>0</td>\n",
       "    </tr>\n",
       "  </tbody>\n",
       "</table>\n",
       "<p>2 rows × 25 columns</p>\n",
       "</div>"
      ],
      "text/plain": [
       "  ID_GAME      NOMBRE_JUEGO  _ACCOUNTING  _ACTION  _ADVENTURE  \\\n",
       "0      10    COUNTER-STRIKE            0        1           0   \n",
       "1    1002  RAG DOLL KUNG FU            0        0           0   \n",
       "\n",
       "   _ANIMATION &AMP; MODELING  _AUDIO PRODUCTION  _CASUAL  \\\n",
       "0                          0                  0        0   \n",
       "1                          0                  0        0   \n",
       "\n",
       "   _DESIGN &AMP; ILLUSTRATION  _EARLY ACCESS  ...  _PHOTO EDITING  _RACING  \\\n",
       "0                           0              0  ...               0        0   \n",
       "1                           0              0  ...               0        0   \n",
       "\n",
       "   _RPG  _SIMULATION  _SOFTWARE TRAINING  _SPORTS  _STRATEGY  _UTILITIES  \\\n",
       "0     0            0                   0        0          0           0   \n",
       "1     0            0                   0        0          0           0   \n",
       "\n",
       "   _VIDEO PRODUCTION  _WEB PUBLISHING  \n",
       "0                  0                0  \n",
       "1                  0                0  \n",
       "\n",
       "[2 rows x 25 columns]"
      ]
     },
     "execution_count": 9,
     "metadata": {},
     "output_type": "execute_result"
    }
   ],
   "source": [
    "modelo_games.head(2)"
   ]
  }
 ],
 "metadata": {
  "kernelspec": {
   "display_name": "Python 3",
   "language": "python",
   "name": "python3"
  },
  "language_info": {
   "codemirror_mode": {
    "name": "ipython",
    "version": 3
   },
   "file_extension": ".py",
   "mimetype": "text/x-python",
   "name": "python",
   "nbconvert_exporter": "python",
   "pygments_lexer": "ipython3",
   "version": "3.11.8"
  }
 },
 "nbformat": 4,
 "nbformat_minor": 2
}
