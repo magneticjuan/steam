{
 "cells": [
  {
   "cell_type": "markdown",
   "metadata": {},
   "source": [
    "# **Union de Tablas**\n",
    "# Acciones para Facilitar la Lectura de las Funciones en FastAPI\n",
    "\n",
    "En este archivo encontraremos una sección que facilitará y optimizara todo el proceso para poder subir la información sin ningún inconveniente a fast api y poder usarlo de manera eficiente. En el proceso de subir funciones a FastAPI, es crucial mantener la legibilidad y comprensión del código. Para ello, vamos a realizar una serie de acciones:\n",
    "\n",
    "1. **Añadir Comentarios Descriptivos:** Cada función debe estar acompañada de comentarios claros que expliquen su propósito, parámetros y posibles valores de retorno.\n",
    "\n",
    "2. **Utilizar Nombres Explicativos:** Es fundamental asignar nombres significativos tanto a las funciones como a sus parámetros. Esto ayuda a comprender rápidamente qué hace cada función y cómo utilizarla.\n",
    "\n",
    "3. **Documentar con Docstrings:** Emplearemos docstrings para documentar cada función, proporcionando información detallada sobre su funcionalidad, parámetros y valores de retorno.\n",
    "\n",
    "4. **Formato Consistente:** Mantendremos un formato consistente en todo el código, siguiendo las convenciones de estilo de Python (PEP 8). Esto incluye la indentación, la longitud máxima de línea y el uso adecuado de espacios en blanco.\n",
    "\n",
    "5. **Organización Lógica del Código:** Dividiremos el código en funciones más pequeñas y cohesivas, cada una encargada de una tarea específica. Esto mejora la modularidad y facilita la comprensión del flujo de ejecución.\n",
    "\n",
    "Al seguir estas acciones, garantizaremos que nuestras funciones sean fácilmente comprensibles y utilitarias al integrarlas en FastAPI.\n"
   ]
  },
  {
   "cell_type": "markdown",
   "metadata": {},
   "source": [
    "### 1. Importamos las librerias"
   ]
  },
  {
   "cell_type": "code",
   "execution_count": 13,
   "metadata": {},
   "outputs": [],
   "source": [
    "import pandas as pd\n",
    "import funciones_basicas as fb\n",
    "import warnings\n",
    "warnings.filterwarnings('ignore')"
   ]
  },
  {
   "cell_type": "markdown",
   "metadata": {},
   "source": [
    "### 2. Cargamos los datos que vamos a usar"
   ]
  },
  {
   "cell_type": "code",
   "execution_count": 14,
   "metadata": {},
   "outputs": [
    {
     "data": {
      "text/html": [
       "<div>\n",
       "<style scoped>\n",
       "    .dataframe tbody tr th:only-of-type {\n",
       "        vertical-align: middle;\n",
       "    }\n",
       "\n",
       "    .dataframe tbody tr th {\n",
       "        vertical-align: top;\n",
       "    }\n",
       "\n",
       "    .dataframe thead th {\n",
       "        text-align: right;\n",
       "    }\n",
       "</style>\n",
       "<table border=\"1\" class=\"dataframe\">\n",
       "  <thead>\n",
       "    <tr style=\"text-align: right;\">\n",
       "      <th></th>\n",
       "      <th>GENEROS</th>\n",
       "      <th>NOMBRE_JUEGO</th>\n",
       "      <th>PRECIO</th>\n",
       "      <th>ID_GAME</th>\n",
       "      <th>DEVELOPER</th>\n",
       "      <th>AÑO</th>\n",
       "    </tr>\n",
       "  </thead>\n",
       "  <tbody>\n",
       "    <tr>\n",
       "      <th>0</th>\n",
       "      <td>ACTION</td>\n",
       "      <td>LOST SUMMONER KITTY</td>\n",
       "      <td>4.990000</td>\n",
       "      <td>761140</td>\n",
       "      <td>KOTOSHIRO</td>\n",
       "      <td>2018</td>\n",
       "    </tr>\n",
       "    <tr>\n",
       "      <th>1</th>\n",
       "      <td>FREE TO PLAY</td>\n",
       "      <td>IRONBOUND</td>\n",
       "      <td>26.790000</td>\n",
       "      <td>643980</td>\n",
       "      <td>SECRET LEVEL SRL</td>\n",
       "      <td>2018</td>\n",
       "    </tr>\n",
       "    <tr>\n",
       "      <th>2</th>\n",
       "      <td>CASUAL</td>\n",
       "      <td>REAL POOL 3D - POOLIANS</td>\n",
       "      <td>4.801037</td>\n",
       "      <td>670290</td>\n",
       "      <td>POOLIANS.COM</td>\n",
       "      <td>2017</td>\n",
       "    </tr>\n",
       "  </tbody>\n",
       "</table>\n",
       "</div>"
      ],
      "text/plain": [
       "        GENEROS             NOMBRE_JUEGO     PRECIO ID_GAME         DEVELOPER  \\\n",
       "0        ACTION      LOST SUMMONER KITTY   4.990000  761140         KOTOSHIRO   \n",
       "1  FREE TO PLAY                IRONBOUND  26.790000  643980  SECRET LEVEL SRL   \n",
       "2        CASUAL  REAL POOL 3D - POOLIANS   4.801037  670290      POOLIANS.COM   \n",
       "\n",
       "    AÑO  \n",
       "0  2018  \n",
       "1  2018  \n",
       "2  2017  "
      ]
     },
     "execution_count": 14,
     "metadata": {},
     "output_type": "execute_result"
    }
   ],
   "source": [
    "games = fb.cargar_datos_parquet('PARQUET\\GAMES.parquet')\n",
    "games.head(3)"
   ]
  },
  {
   "cell_type": "code",
   "execution_count": 15,
   "metadata": {},
   "outputs": [
    {
     "data": {
      "text/html": [
       "<div>\n",
       "<style scoped>\n",
       "    .dataframe tbody tr th:only-of-type {\n",
       "        vertical-align: middle;\n",
       "    }\n",
       "\n",
       "    .dataframe tbody tr th {\n",
       "        vertical-align: top;\n",
       "    }\n",
       "\n",
       "    .dataframe thead th {\n",
       "        text-align: right;\n",
       "    }\n",
       "</style>\n",
       "<table border=\"1\" class=\"dataframe\">\n",
       "  <thead>\n",
       "    <tr style=\"text-align: right;\">\n",
       "      <th></th>\n",
       "      <th>ID_USUARIO</th>\n",
       "      <th>AÑO_LANZAMIENTO</th>\n",
       "      <th>ID_GAME</th>\n",
       "      <th>RECOMIENDA</th>\n",
       "      <th>SENTIMIENTO</th>\n",
       "    </tr>\n",
       "  </thead>\n",
       "  <tbody>\n",
       "    <tr>\n",
       "      <th>0</th>\n",
       "      <td>76561197970982479</td>\n",
       "      <td>2011</td>\n",
       "      <td>1250</td>\n",
       "      <td>True</td>\n",
       "      <td>2</td>\n",
       "    </tr>\n",
       "    <tr>\n",
       "      <th>1</th>\n",
       "      <td>76561197970982479</td>\n",
       "      <td>2011</td>\n",
       "      <td>22200</td>\n",
       "      <td>True</td>\n",
       "      <td>1</td>\n",
       "    </tr>\n",
       "    <tr>\n",
       "      <th>2</th>\n",
       "      <td>76561197970982479</td>\n",
       "      <td>2011</td>\n",
       "      <td>43110</td>\n",
       "      <td>True</td>\n",
       "      <td>2</td>\n",
       "    </tr>\n",
       "  </tbody>\n",
       "</table>\n",
       "</div>"
      ],
      "text/plain": [
       "          ID_USUARIO  AÑO_LANZAMIENTO ID_GAME  RECOMIENDA  SENTIMIENTO\n",
       "0  76561197970982479             2011    1250        True            2\n",
       "1  76561197970982479             2011   22200        True            1\n",
       "2  76561197970982479             2011   43110        True            2"
      ]
     },
     "execution_count": 15,
     "metadata": {},
     "output_type": "execute_result"
    }
   ],
   "source": [
    "reviews = fb.cargar_datos_parquet('PARQUET\\REVIEWS.parquet')\n",
    "reviews.head(3)"
   ]
  },
  {
   "cell_type": "code",
   "execution_count": 16,
   "metadata": {},
   "outputs": [
    {
     "data": {
      "text/html": [
       "<div>\n",
       "<style scoped>\n",
       "    .dataframe tbody tr th:only-of-type {\n",
       "        vertical-align: middle;\n",
       "    }\n",
       "\n",
       "    .dataframe tbody tr th {\n",
       "        vertical-align: top;\n",
       "    }\n",
       "\n",
       "    .dataframe thead th {\n",
       "        text-align: right;\n",
       "    }\n",
       "</style>\n",
       "<table border=\"1\" class=\"dataframe\">\n",
       "  <thead>\n",
       "    <tr style=\"text-align: right;\">\n",
       "      <th></th>\n",
       "      <th>ID_GAME</th>\n",
       "      <th>NOMBRE_JUEGO</th>\n",
       "      <th>ID_STEAM</th>\n",
       "      <th>CANT_JUEGOS</th>\n",
       "      <th>ID_USUARIO</th>\n",
       "      <th>HORAS_DE_JUEGO</th>\n",
       "    </tr>\n",
       "  </thead>\n",
       "  <tbody>\n",
       "    <tr>\n",
       "      <th>0</th>\n",
       "      <td>10</td>\n",
       "      <td>COUNTER-STRIKE</td>\n",
       "      <td>76561197970982479</td>\n",
       "      <td>277</td>\n",
       "      <td>76561197970982479</td>\n",
       "      <td>0.10</td>\n",
       "    </tr>\n",
       "    <tr>\n",
       "      <th>1</th>\n",
       "      <td>30</td>\n",
       "      <td>DAY OF DEFEAT</td>\n",
       "      <td>76561197970982479</td>\n",
       "      <td>277</td>\n",
       "      <td>76561197970982479</td>\n",
       "      <td>0.12</td>\n",
       "    </tr>\n",
       "    <tr>\n",
       "      <th>2</th>\n",
       "      <td>300</td>\n",
       "      <td>DAY OF DEFEAT: SOURCE</td>\n",
       "      <td>76561197970982479</td>\n",
       "      <td>277</td>\n",
       "      <td>76561197970982479</td>\n",
       "      <td>78.88</td>\n",
       "    </tr>\n",
       "  </tbody>\n",
       "</table>\n",
       "</div>"
      ],
      "text/plain": [
       "  ID_GAME           NOMBRE_JUEGO           ID_STEAM  CANT_JUEGOS  \\\n",
       "0      10         COUNTER-STRIKE  76561197970982479          277   \n",
       "1      30          DAY OF DEFEAT  76561197970982479          277   \n",
       "2     300  DAY OF DEFEAT: SOURCE  76561197970982479          277   \n",
       "\n",
       "          ID_USUARIO  HORAS_DE_JUEGO  \n",
       "0  76561197970982479            0.10  \n",
       "1  76561197970982479            0.12  \n",
       "2  76561197970982479           78.88  "
      ]
     },
     "execution_count": 16,
     "metadata": {},
     "output_type": "execute_result"
    }
   ],
   "source": [
    "items = fb.cargar_datos_parquet('PARQUET\\ITEMS.parquet')\n",
    "items.head(3)"
   ]
  },
  {
   "cell_type": "markdown",
   "metadata": {},
   "source": [
    "### 3. Iniciamos la union de tablas con el método merged"
   ]
  },
  {
   "cell_type": "markdown",
   "metadata": {},
   "source": [
    "#### Unimos las tablas de manera general"
   ]
  },
  {
   "cell_type": "code",
   "execution_count": 17,
   "metadata": {},
   "outputs": [
    {
     "data": {
      "text/html": [
       "<div>\n",
       "<style scoped>\n",
       "    .dataframe tbody tr th:only-of-type {\n",
       "        vertical-align: middle;\n",
       "    }\n",
       "\n",
       "    .dataframe tbody tr th {\n",
       "        vertical-align: top;\n",
       "    }\n",
       "\n",
       "    .dataframe thead th {\n",
       "        text-align: right;\n",
       "    }\n",
       "</style>\n",
       "<table border=\"1\" class=\"dataframe\">\n",
       "  <thead>\n",
       "    <tr style=\"text-align: right;\">\n",
       "      <th></th>\n",
       "      <th>GENEROS</th>\n",
       "      <th>NOMBRE_JUEGO</th>\n",
       "      <th>PRECIO</th>\n",
       "      <th>ID_GAME</th>\n",
       "      <th>DEVELOPER</th>\n",
       "      <th>AÑO</th>\n",
       "      <th>ID_USUARIO</th>\n",
       "      <th>AÑO_LANZAMIENTO</th>\n",
       "      <th>RECOMIENDA</th>\n",
       "      <th>SENTIMIENTO</th>\n",
       "    </tr>\n",
       "  </thead>\n",
       "  <tbody>\n",
       "    <tr>\n",
       "      <th>0</th>\n",
       "      <td>ACTION</td>\n",
       "      <td>CARMAGEDDON MAX PACK</td>\n",
       "      <td>9.99</td>\n",
       "      <td>282010</td>\n",
       "      <td>STAINLESS GAMES LTD</td>\n",
       "      <td>1997</td>\n",
       "      <td>BLAZINGTHEAMAZING</td>\n",
       "      <td>2014</td>\n",
       "      <td>True</td>\n",
       "      <td>1</td>\n",
       "    </tr>\n",
       "    <tr>\n",
       "      <th>1</th>\n",
       "      <td>ACTION</td>\n",
       "      <td>HALF-LIFE</td>\n",
       "      <td>9.99</td>\n",
       "      <td>70</td>\n",
       "      <td>VALVE</td>\n",
       "      <td>1998</td>\n",
       "      <td>EXIAEZ</td>\n",
       "      <td>2015</td>\n",
       "      <td>True</td>\n",
       "      <td>1</td>\n",
       "    </tr>\n",
       "    <tr>\n",
       "      <th>2</th>\n",
       "      <td>ACTION</td>\n",
       "      <td>HALF-LIFE</td>\n",
       "      <td>9.99</td>\n",
       "      <td>70</td>\n",
       "      <td>VALVE</td>\n",
       "      <td>1998</td>\n",
       "      <td>MRPFRESH</td>\n",
       "      <td>2011</td>\n",
       "      <td>True</td>\n",
       "      <td>0</td>\n",
       "    </tr>\n",
       "  </tbody>\n",
       "</table>\n",
       "</div>"
      ],
      "text/plain": [
       "  GENEROS          NOMBRE_JUEGO  PRECIO ID_GAME            DEVELOPER   AÑO  \\\n",
       "0  ACTION  CARMAGEDDON MAX PACK    9.99  282010  STAINLESS GAMES LTD  1997   \n",
       "1  ACTION             HALF-LIFE    9.99      70                VALVE  1998   \n",
       "2  ACTION             HALF-LIFE    9.99      70                VALVE  1998   \n",
       "\n",
       "          ID_USUARIO  AÑO_LANZAMIENTO  RECOMIENDA  SENTIMIENTO  \n",
       "0  BLAZINGTHEAMAZING             2014        True            1  \n",
       "1             EXIAEZ             2015        True            1  \n",
       "2           MRPFRESH             2011        True            0  "
      ]
     },
     "execution_count": 17,
     "metadata": {},
     "output_type": "execute_result"
    }
   ],
   "source": [
    "# Juntamos las tablas games y reviews\n",
    "merged_data = pd.merge(games, reviews, left_on='ID_GAME', right_on='ID_GAME', how='inner')\n",
    "merged_data.head(3)"
   ]
  },
  {
   "cell_type": "code",
   "execution_count": 27,
   "metadata": {},
   "outputs": [
    {
     "data": {
      "text/html": [
       "<div>\n",
       "<style scoped>\n",
       "    .dataframe tbody tr th:only-of-type {\n",
       "        vertical-align: middle;\n",
       "    }\n",
       "\n",
       "    .dataframe tbody tr th {\n",
       "        vertical-align: top;\n",
       "    }\n",
       "\n",
       "    .dataframe thead th {\n",
       "        text-align: right;\n",
       "    }\n",
       "</style>\n",
       "<table border=\"1\" class=\"dataframe\">\n",
       "  <thead>\n",
       "    <tr style=\"text-align: right;\">\n",
       "      <th></th>\n",
       "      <th>GENEROS</th>\n",
       "      <th>NOMBRE_JUEGO_x</th>\n",
       "      <th>PRECIO</th>\n",
       "      <th>ID_GAME</th>\n",
       "      <th>DEVELOPER</th>\n",
       "      <th>AÑO</th>\n",
       "      <th>ID_USUARIO</th>\n",
       "      <th>AÑO_LANZAMIENTO</th>\n",
       "      <th>RECOMIENDA</th>\n",
       "      <th>SENTIMIENTO</th>\n",
       "      <th>NOMBRE_JUEGO_y</th>\n",
       "      <th>ID_STEAM</th>\n",
       "      <th>CANT_JUEGOS</th>\n",
       "      <th>HORAS_DE_JUEGO</th>\n",
       "    </tr>\n",
       "  </thead>\n",
       "  <tbody>\n",
       "    <tr>\n",
       "      <th>0</th>\n",
       "      <td>ACTION</td>\n",
       "      <td>HALF-LIFE</td>\n",
       "      <td>9.99</td>\n",
       "      <td>70</td>\n",
       "      <td>VALVE</td>\n",
       "      <td>1998</td>\n",
       "      <td>MRPFRESH</td>\n",
       "      <td>2011</td>\n",
       "      <td>True</td>\n",
       "      <td>0</td>\n",
       "      <td>HALF-LIFE</td>\n",
       "      <td>76561197974266367</td>\n",
       "      <td>791</td>\n",
       "      <td>2.32</td>\n",
       "    </tr>\n",
       "    <tr>\n",
       "      <th>1</th>\n",
       "      <td>ACTION</td>\n",
       "      <td>HALF-LIFE</td>\n",
       "      <td>9.99</td>\n",
       "      <td>70</td>\n",
       "      <td>VALVE</td>\n",
       "      <td>1998</td>\n",
       "      <td>ARMOUREDMARSHMALLOW</td>\n",
       "      <td>2014</td>\n",
       "      <td>True</td>\n",
       "      <td>1</td>\n",
       "      <td>HALF-LIFE</td>\n",
       "      <td>76561198104386187</td>\n",
       "      <td>119</td>\n",
       "      <td>13.13</td>\n",
       "    </tr>\n",
       "    <tr>\n",
       "      <th>2</th>\n",
       "      <td>ACTION</td>\n",
       "      <td>HALF-LIFE</td>\n",
       "      <td>9.99</td>\n",
       "      <td>70</td>\n",
       "      <td>VALVE</td>\n",
       "      <td>1998</td>\n",
       "      <td>BLUEGILLS</td>\n",
       "      <td>2013</td>\n",
       "      <td>True</td>\n",
       "      <td>2</td>\n",
       "      <td>HALF-LIFE</td>\n",
       "      <td>76561197971857001</td>\n",
       "      <td>1280</td>\n",
       "      <td>1.07</td>\n",
       "    </tr>\n",
       "  </tbody>\n",
       "</table>\n",
       "</div>"
      ],
      "text/plain": [
       "  GENEROS NOMBRE_JUEGO_x  PRECIO ID_GAME DEVELOPER   AÑO           ID_USUARIO  \\\n",
       "0  ACTION      HALF-LIFE    9.99      70     VALVE  1998             MRPFRESH   \n",
       "1  ACTION      HALF-LIFE    9.99      70     VALVE  1998  ARMOUREDMARSHMALLOW   \n",
       "2  ACTION      HALF-LIFE    9.99      70     VALVE  1998            BLUEGILLS   \n",
       "\n",
       "   AÑO_LANZAMIENTO  RECOMIENDA  SENTIMIENTO NOMBRE_JUEGO_y           ID_STEAM  \\\n",
       "0             2011        True            0      HALF-LIFE  76561197974266367   \n",
       "1             2014        True            1      HALF-LIFE  76561198104386187   \n",
       "2             2013        True            2      HALF-LIFE  76561197971857001   \n",
       "\n",
       "   CANT_JUEGOS  HORAS_DE_JUEGO  \n",
       "0          791            2.32  \n",
       "1          119           13.13  \n",
       "2         1280            1.07  "
      ]
     },
     "execution_count": 27,
     "metadata": {},
     "output_type": "execute_result"
    }
   ],
   "source": [
    "merged_data2 = pd.merge(merged_data, items, on=['ID_GAME', 'ID_USUARIO'])\n",
    "merged_data2.head(3)"
   ]
  },
  {
   "cell_type": "markdown",
   "metadata": {},
   "source": [
    "#### Tabla Desarrollador"
   ]
  },
  {
   "cell_type": "code",
   "execution_count": 18,
   "metadata": {},
   "outputs": [
    {
     "data": {
      "text/html": [
       "<div>\n",
       "<style scoped>\n",
       "    .dataframe tbody tr th:only-of-type {\n",
       "        vertical-align: middle;\n",
       "    }\n",
       "\n",
       "    .dataframe tbody tr th {\n",
       "        vertical-align: top;\n",
       "    }\n",
       "\n",
       "    .dataframe thead th {\n",
       "        text-align: right;\n",
       "    }\n",
       "</style>\n",
       "<table border=\"1\" class=\"dataframe\">\n",
       "  <thead>\n",
       "    <tr style=\"text-align: right;\">\n",
       "      <th></th>\n",
       "      <th>PRECIO</th>\n",
       "      <th>ID_GAME</th>\n",
       "      <th>DEVELOPER</th>\n",
       "      <th>AÑO</th>\n",
       "    </tr>\n",
       "  </thead>\n",
       "  <tbody>\n",
       "    <tr>\n",
       "      <th>0</th>\n",
       "      <td>9.99</td>\n",
       "      <td>282010</td>\n",
       "      <td>STAINLESS GAMES LTD</td>\n",
       "      <td>1997</td>\n",
       "    </tr>\n",
       "    <tr>\n",
       "      <th>1</th>\n",
       "      <td>9.99</td>\n",
       "      <td>70</td>\n",
       "      <td>VALVE</td>\n",
       "      <td>1998</td>\n",
       "    </tr>\n",
       "    <tr>\n",
       "      <th>2</th>\n",
       "      <td>9.99</td>\n",
       "      <td>70</td>\n",
       "      <td>VALVE</td>\n",
       "      <td>1998</td>\n",
       "    </tr>\n",
       "  </tbody>\n",
       "</table>\n",
       "</div>"
      ],
      "text/plain": [
       "   PRECIO ID_GAME            DEVELOPER   AÑO\n",
       "0    9.99  282010  STAINLESS GAMES LTD  1997\n",
       "1    9.99      70                VALVE  1998\n",
       "2    9.99      70                VALVE  1998"
      ]
     },
     "execution_count": 18,
     "metadata": {},
     "output_type": "execute_result"
    }
   ],
   "source": [
    "desarrollador = merged_data.drop(columns=['GENEROS', 'NOMBRE_JUEGO', 'ID_USUARIO', 'AÑO_LANZAMIENTO', 'RECOMIENDA', 'SENTIMIENTO'])\n",
    "desarrollador.head(3)"
   ]
  },
  {
   "cell_type": "code",
   "execution_count": 19,
   "metadata": {},
   "outputs": [],
   "source": [
    "# Guardamos latabla resultado en un archivo .parquet\n",
    "fb.guardar_datos(desarrollador, 'PARQUET\\TABLAS UNIDAS\\DESARROLLADOR.parquet')"
   ]
  },
  {
   "cell_type": "markdown",
   "metadata": {},
   "source": [
    "#### Tabla Gasto"
   ]
  },
  {
   "cell_type": "code",
   "execution_count": 20,
   "metadata": {},
   "outputs": [
    {
     "data": {
      "text/html": [
       "<div>\n",
       "<style scoped>\n",
       "    .dataframe tbody tr th:only-of-type {\n",
       "        vertical-align: middle;\n",
       "    }\n",
       "\n",
       "    .dataframe tbody tr th {\n",
       "        vertical-align: top;\n",
       "    }\n",
       "\n",
       "    .dataframe thead th {\n",
       "        text-align: right;\n",
       "    }\n",
       "</style>\n",
       "<table border=\"1\" class=\"dataframe\">\n",
       "  <thead>\n",
       "    <tr style=\"text-align: right;\">\n",
       "      <th></th>\n",
       "      <th>PRECIO</th>\n",
       "      <th>ID_USUARIO</th>\n",
       "      <th>AÑO_LANZAMIENTO</th>\n",
       "      <th>RECOMIENDA</th>\n",
       "    </tr>\n",
       "  </thead>\n",
       "  <tbody>\n",
       "    <tr>\n",
       "      <th>0</th>\n",
       "      <td>9.99</td>\n",
       "      <td>BLAZINGTHEAMAZING</td>\n",
       "      <td>2014</td>\n",
       "      <td>True</td>\n",
       "    </tr>\n",
       "    <tr>\n",
       "      <th>1</th>\n",
       "      <td>9.99</td>\n",
       "      <td>EXIAEZ</td>\n",
       "      <td>2015</td>\n",
       "      <td>True</td>\n",
       "    </tr>\n",
       "    <tr>\n",
       "      <th>2</th>\n",
       "      <td>9.99</td>\n",
       "      <td>MRPFRESH</td>\n",
       "      <td>2011</td>\n",
       "      <td>True</td>\n",
       "    </tr>\n",
       "  </tbody>\n",
       "</table>\n",
       "</div>"
      ],
      "text/plain": [
       "   PRECIO         ID_USUARIO  AÑO_LANZAMIENTO  RECOMIENDA\n",
       "0    9.99  BLAZINGTHEAMAZING             2014        True\n",
       "1    9.99             EXIAEZ             2015        True\n",
       "2    9.99           MRPFRESH             2011        True"
      ]
     },
     "execution_count": 20,
     "metadata": {},
     "output_type": "execute_result"
    }
   ],
   "source": [
    "gasto = merged_data.drop(columns=['GENEROS', 'NOMBRE_JUEGO', 'ID_GAME', 'DEVELOPER', 'SENTIMIENTO', 'AÑO'])\n",
    "gasto.head(3)"
   ]
  },
  {
   "cell_type": "code",
   "execution_count": 21,
   "metadata": {},
   "outputs": [],
   "source": [
    "# Guardamos la tabla resultado en un archivo .parquet\n",
    "fb.guardar_datos(gasto, 'PARQUET\\TABLAS UNIDAS\\GASTO.parquet')"
   ]
  },
  {
   "cell_type": "markdown",
   "metadata": {},
   "source": [
    "#### Usuario por Genero"
   ]
  },
  {
   "cell_type": "code",
   "execution_count": 23,
   "metadata": {},
   "outputs": [
    {
     "data": {
      "text/html": [
       "<div>\n",
       "<style scoped>\n",
       "    .dataframe tbody tr th:only-of-type {\n",
       "        vertical-align: middle;\n",
       "    }\n",
       "\n",
       "    .dataframe tbody tr th {\n",
       "        vertical-align: top;\n",
       "    }\n",
       "\n",
       "    .dataframe thead th {\n",
       "        text-align: right;\n",
       "    }\n",
       "</style>\n",
       "<table border=\"1\" class=\"dataframe\">\n",
       "  <thead>\n",
       "    <tr style=\"text-align: right;\">\n",
       "      <th></th>\n",
       "      <th>GENEROS</th>\n",
       "      <th>NOMBRE_JUEGO</th>\n",
       "      <th>PRECIO</th>\n",
       "      <th>ID_GAME</th>\n",
       "      <th>DEVELOPER</th>\n",
       "      <th>AÑO</th>\n",
       "      <th>ID_USUARIO</th>\n",
       "      <th>AÑO_LANZAMIENTO</th>\n",
       "      <th>RECOMIENDA</th>\n",
       "      <th>SENTIMIENTO</th>\n",
       "    </tr>\n",
       "  </thead>\n",
       "  <tbody>\n",
       "    <tr>\n",
       "      <th>0</th>\n",
       "      <td>ACTION</td>\n",
       "      <td>CARMAGEDDON MAX PACK</td>\n",
       "      <td>9.99</td>\n",
       "      <td>282010</td>\n",
       "      <td>STAINLESS GAMES LTD</td>\n",
       "      <td>1997</td>\n",
       "      <td>BLAZINGTHEAMAZING</td>\n",
       "      <td>2014</td>\n",
       "      <td>True</td>\n",
       "      <td>1</td>\n",
       "    </tr>\n",
       "    <tr>\n",
       "      <th>1</th>\n",
       "      <td>ACTION</td>\n",
       "      <td>HALF-LIFE</td>\n",
       "      <td>9.99</td>\n",
       "      <td>70</td>\n",
       "      <td>VALVE</td>\n",
       "      <td>1998</td>\n",
       "      <td>EXIAEZ</td>\n",
       "      <td>2015</td>\n",
       "      <td>True</td>\n",
       "      <td>1</td>\n",
       "    </tr>\n",
       "  </tbody>\n",
       "</table>\n",
       "</div>"
      ],
      "text/plain": [
       "  GENEROS          NOMBRE_JUEGO  PRECIO ID_GAME            DEVELOPER   AÑO  \\\n",
       "0  ACTION  CARMAGEDDON MAX PACK    9.99  282010  STAINLESS GAMES LTD  1997   \n",
       "1  ACTION             HALF-LIFE    9.99      70                VALVE  1998   \n",
       "\n",
       "          ID_USUARIO  AÑO_LANZAMIENTO  RECOMIENDA  SENTIMIENTO  \n",
       "0  BLAZINGTHEAMAZING             2014        True            1  \n",
       "1             EXIAEZ             2015        True            1  "
      ]
     },
     "execution_count": 23,
     "metadata": {},
     "output_type": "execute_result"
    }
   ],
   "source": [
    "merged_data.head(2)"
   ]
  },
  {
   "cell_type": "code",
   "execution_count": 24,
   "metadata": {},
   "outputs": [
    {
     "data": {
      "text/html": [
       "<div>\n",
       "<style scoped>\n",
       "    .dataframe tbody tr th:only-of-type {\n",
       "        vertical-align: middle;\n",
       "    }\n",
       "\n",
       "    .dataframe tbody tr th {\n",
       "        vertical-align: top;\n",
       "    }\n",
       "\n",
       "    .dataframe thead th {\n",
       "        text-align: right;\n",
       "    }\n",
       "</style>\n",
       "<table border=\"1\" class=\"dataframe\">\n",
       "  <thead>\n",
       "    <tr style=\"text-align: right;\">\n",
       "      <th></th>\n",
       "      <th>ID_GAME</th>\n",
       "      <th>NOMBRE_JUEGO</th>\n",
       "      <th>ID_STEAM</th>\n",
       "      <th>CANT_JUEGOS</th>\n",
       "      <th>ID_USUARIO</th>\n",
       "      <th>HORAS_DE_JUEGO</th>\n",
       "    </tr>\n",
       "  </thead>\n",
       "  <tbody>\n",
       "    <tr>\n",
       "      <th>0</th>\n",
       "      <td>10</td>\n",
       "      <td>COUNTER-STRIKE</td>\n",
       "      <td>76561197970982479</td>\n",
       "      <td>277</td>\n",
       "      <td>76561197970982479</td>\n",
       "      <td>0.10</td>\n",
       "    </tr>\n",
       "    <tr>\n",
       "      <th>1</th>\n",
       "      <td>30</td>\n",
       "      <td>DAY OF DEFEAT</td>\n",
       "      <td>76561197970982479</td>\n",
       "      <td>277</td>\n",
       "      <td>76561197970982479</td>\n",
       "      <td>0.12</td>\n",
       "    </tr>\n",
       "  </tbody>\n",
       "</table>\n",
       "</div>"
      ],
      "text/plain": [
       "  ID_GAME    NOMBRE_JUEGO           ID_STEAM  CANT_JUEGOS         ID_USUARIO  \\\n",
       "0      10  COUNTER-STRIKE  76561197970982479          277  76561197970982479   \n",
       "1      30   DAY OF DEFEAT  76561197970982479          277  76561197970982479   \n",
       "\n",
       "   HORAS_DE_JUEGO  \n",
       "0            0.10  \n",
       "1            0.12  "
      ]
     },
     "execution_count": 24,
     "metadata": {},
     "output_type": "execute_result"
    }
   ],
   "source": [
    "items.head(2)"
   ]
  },
  {
   "cell_type": "code",
   "execution_count": 29,
   "metadata": {},
   "outputs": [
    {
     "data": {
      "text/html": [
       "<div>\n",
       "<style scoped>\n",
       "    .dataframe tbody tr th:only-of-type {\n",
       "        vertical-align: middle;\n",
       "    }\n",
       "\n",
       "    .dataframe tbody tr th {\n",
       "        vertical-align: top;\n",
       "    }\n",
       "\n",
       "    .dataframe thead th {\n",
       "        text-align: right;\n",
       "    }\n",
       "</style>\n",
       "<table border=\"1\" class=\"dataframe\">\n",
       "  <thead>\n",
       "    <tr style=\"text-align: right;\">\n",
       "      <th></th>\n",
       "      <th>GENEROS</th>\n",
       "      <th>ID_USUARIO</th>\n",
       "      <th>AÑO_LANZAMIENTO</th>\n",
       "      <th>HORAS_DE_JUEGO</th>\n",
       "    </tr>\n",
       "  </thead>\n",
       "  <tbody>\n",
       "    <tr>\n",
       "      <th>0</th>\n",
       "      <td>ACTION</td>\n",
       "      <td>MRPFRESH</td>\n",
       "      <td>2011</td>\n",
       "      <td>2.32</td>\n",
       "    </tr>\n",
       "    <tr>\n",
       "      <th>1</th>\n",
       "      <td>ACTION</td>\n",
       "      <td>ARMOUREDMARSHMALLOW</td>\n",
       "      <td>2014</td>\n",
       "      <td>13.13</td>\n",
       "    </tr>\n",
       "    <tr>\n",
       "      <th>2</th>\n",
       "      <td>ACTION</td>\n",
       "      <td>BLUEGILLS</td>\n",
       "      <td>2013</td>\n",
       "      <td>1.07</td>\n",
       "    </tr>\n",
       "  </tbody>\n",
       "</table>\n",
       "</div>"
      ],
      "text/plain": [
       "  GENEROS           ID_USUARIO  AÑO_LANZAMIENTO  HORAS_DE_JUEGO\n",
       "0  ACTION             MRPFRESH             2011            2.32\n",
       "1  ACTION  ARMOUREDMARSHMALLOW             2014           13.13\n",
       "2  ACTION            BLUEGILLS             2013            1.07"
      ]
     },
     "execution_count": 29,
     "metadata": {},
     "output_type": "execute_result"
    }
   ],
   "source": [
    "usuario_genero = merged_data2.drop(columns=['NOMBRE_JUEGO_x', 'PRECIO', 'ID_GAME', 'DEVELOPER', 'AÑO', 'RECOMIENDA', 'SENTIMIENTO', 'NOMBRE_JUEGO_y','ID_STEAM', 'CANT_JUEGOS',])\n",
    "usuario_genero.head(3)"
   ]
  },
  {
   "cell_type": "code",
   "execution_count": 31,
   "metadata": {},
   "outputs": [],
   "source": [
    "fb.guardar_datos(usuario_genero, 'PARQUET\\\\TABLAS UNIDAS\\\\USUARIO_GENERO.parquet')"
   ]
  },
  {
   "cell_type": "markdown",
   "metadata": {},
   "source": [
    "#### Top Developer"
   ]
  },
  {
   "cell_type": "code",
   "execution_count": 32,
   "metadata": {},
   "outputs": [
    {
     "data": {
      "text/html": [
       "<div>\n",
       "<style scoped>\n",
       "    .dataframe tbody tr th:only-of-type {\n",
       "        vertical-align: middle;\n",
       "    }\n",
       "\n",
       "    .dataframe tbody tr th {\n",
       "        vertical-align: top;\n",
       "    }\n",
       "\n",
       "    .dataframe thead th {\n",
       "        text-align: right;\n",
       "    }\n",
       "</style>\n",
       "<table border=\"1\" class=\"dataframe\">\n",
       "  <thead>\n",
       "    <tr style=\"text-align: right;\">\n",
       "      <th></th>\n",
       "      <th>GENEROS</th>\n",
       "      <th>NOMBRE_JUEGO</th>\n",
       "      <th>PRECIO</th>\n",
       "      <th>ID_GAME</th>\n",
       "      <th>DEVELOPER</th>\n",
       "      <th>AÑO</th>\n",
       "      <th>ID_USUARIO</th>\n",
       "      <th>AÑO_LANZAMIENTO</th>\n",
       "      <th>RECOMIENDA</th>\n",
       "      <th>SENTIMIENTO</th>\n",
       "    </tr>\n",
       "  </thead>\n",
       "  <tbody>\n",
       "    <tr>\n",
       "      <th>0</th>\n",
       "      <td>ACTION</td>\n",
       "      <td>CARMAGEDDON MAX PACK</td>\n",
       "      <td>9.99</td>\n",
       "      <td>282010</td>\n",
       "      <td>STAINLESS GAMES LTD</td>\n",
       "      <td>1997</td>\n",
       "      <td>BLAZINGTHEAMAZING</td>\n",
       "      <td>2014</td>\n",
       "      <td>True</td>\n",
       "      <td>1</td>\n",
       "    </tr>\n",
       "    <tr>\n",
       "      <th>1</th>\n",
       "      <td>ACTION</td>\n",
       "      <td>HALF-LIFE</td>\n",
       "      <td>9.99</td>\n",
       "      <td>70</td>\n",
       "      <td>VALVE</td>\n",
       "      <td>1998</td>\n",
       "      <td>EXIAEZ</td>\n",
       "      <td>2015</td>\n",
       "      <td>True</td>\n",
       "      <td>1</td>\n",
       "    </tr>\n",
       "    <tr>\n",
       "      <th>2</th>\n",
       "      <td>ACTION</td>\n",
       "      <td>HALF-LIFE</td>\n",
       "      <td>9.99</td>\n",
       "      <td>70</td>\n",
       "      <td>VALVE</td>\n",
       "      <td>1998</td>\n",
       "      <td>MRPFRESH</td>\n",
       "      <td>2011</td>\n",
       "      <td>True</td>\n",
       "      <td>0</td>\n",
       "    </tr>\n",
       "  </tbody>\n",
       "</table>\n",
       "</div>"
      ],
      "text/plain": [
       "  GENEROS          NOMBRE_JUEGO  PRECIO ID_GAME            DEVELOPER   AÑO  \\\n",
       "0  ACTION  CARMAGEDDON MAX PACK    9.99  282010  STAINLESS GAMES LTD  1997   \n",
       "1  ACTION             HALF-LIFE    9.99      70                VALVE  1998   \n",
       "2  ACTION             HALF-LIFE    9.99      70                VALVE  1998   \n",
       "\n",
       "          ID_USUARIO  AÑO_LANZAMIENTO  RECOMIENDA  SENTIMIENTO  \n",
       "0  BLAZINGTHEAMAZING             2014        True            1  \n",
       "1             EXIAEZ             2015        True            1  \n",
       "2           MRPFRESH             2011        True            0  "
      ]
     },
     "execution_count": 32,
     "metadata": {},
     "output_type": "execute_result"
    }
   ],
   "source": [
    "merged_data.head(3)"
   ]
  },
  {
   "cell_type": "code",
   "execution_count": 34,
   "metadata": {},
   "outputs": [
    {
     "data": {
      "text/html": [
       "<div>\n",
       "<style scoped>\n",
       "    .dataframe tbody tr th:only-of-type {\n",
       "        vertical-align: middle;\n",
       "    }\n",
       "\n",
       "    .dataframe tbody tr th {\n",
       "        vertical-align: top;\n",
       "    }\n",
       "\n",
       "    .dataframe thead th {\n",
       "        text-align: right;\n",
       "    }\n",
       "</style>\n",
       "<table border=\"1\" class=\"dataframe\">\n",
       "  <thead>\n",
       "    <tr style=\"text-align: right;\">\n",
       "      <th></th>\n",
       "      <th>DEVELOPER</th>\n",
       "      <th>AÑO</th>\n",
       "      <th>ID_USUARIO</th>\n",
       "      <th>RECOMIENDA</th>\n",
       "      <th>SENTIMIENTO</th>\n",
       "    </tr>\n",
       "  </thead>\n",
       "  <tbody>\n",
       "    <tr>\n",
       "      <th>0</th>\n",
       "      <td>STAINLESS GAMES LTD</td>\n",
       "      <td>1997</td>\n",
       "      <td>BLAZINGTHEAMAZING</td>\n",
       "      <td>True</td>\n",
       "      <td>1</td>\n",
       "    </tr>\n",
       "    <tr>\n",
       "      <th>1</th>\n",
       "      <td>VALVE</td>\n",
       "      <td>1998</td>\n",
       "      <td>EXIAEZ</td>\n",
       "      <td>True</td>\n",
       "      <td>1</td>\n",
       "    </tr>\n",
       "    <tr>\n",
       "      <th>2</th>\n",
       "      <td>VALVE</td>\n",
       "      <td>1998</td>\n",
       "      <td>MRPFRESH</td>\n",
       "      <td>True</td>\n",
       "      <td>0</td>\n",
       "    </tr>\n",
       "  </tbody>\n",
       "</table>\n",
       "</div>"
      ],
      "text/plain": [
       "             DEVELOPER   AÑO         ID_USUARIO  RECOMIENDA  SENTIMIENTO\n",
       "0  STAINLESS GAMES LTD  1997  BLAZINGTHEAMAZING        True            1\n",
       "1                VALVE  1998             EXIAEZ        True            1\n",
       "2                VALVE  1998           MRPFRESH        True            0"
      ]
     },
     "execution_count": 34,
     "metadata": {},
     "output_type": "execute_result"
    }
   ],
   "source": [
    "top_dev = merged_data.drop(columns=['GENEROS', 'NOMBRE_JUEGO', 'PRECIO', 'ID_GAME', 'AÑO_LANZAMIENTO'])\n",
    "top_dev.head(3)"
   ]
  },
  {
   "cell_type": "code",
   "execution_count": 35,
   "metadata": {},
   "outputs": [],
   "source": [
    "fb.guardar_datos(top_dev, 'PARQUET\\TABLAS UNIDAS\\TOP_DEV.parquet')"
   ]
  },
  {
   "cell_type": "markdown",
   "metadata": {},
   "source": [
    "### Sentimiento Developer"
   ]
  },
  {
   "cell_type": "code",
   "execution_count": 37,
   "metadata": {},
   "outputs": [
    {
     "data": {
      "text/html": [
       "<div>\n",
       "<style scoped>\n",
       "    .dataframe tbody tr th:only-of-type {\n",
       "        vertical-align: middle;\n",
       "    }\n",
       "\n",
       "    .dataframe tbody tr th {\n",
       "        vertical-align: top;\n",
       "    }\n",
       "\n",
       "    .dataframe thead th {\n",
       "        text-align: right;\n",
       "    }\n",
       "</style>\n",
       "<table border=\"1\" class=\"dataframe\">\n",
       "  <thead>\n",
       "    <tr style=\"text-align: right;\">\n",
       "      <th></th>\n",
       "      <th>DEVELOPER</th>\n",
       "      <th>SENTIMIENTO</th>\n",
       "    </tr>\n",
       "  </thead>\n",
       "  <tbody>\n",
       "    <tr>\n",
       "      <th>0</th>\n",
       "      <td>STAINLESS GAMES LTD</td>\n",
       "      <td>1</td>\n",
       "    </tr>\n",
       "    <tr>\n",
       "      <th>1</th>\n",
       "      <td>VALVE</td>\n",
       "      <td>1</td>\n",
       "    </tr>\n",
       "    <tr>\n",
       "      <th>2</th>\n",
       "      <td>VALVE</td>\n",
       "      <td>0</td>\n",
       "    </tr>\n",
       "  </tbody>\n",
       "</table>\n",
       "</div>"
      ],
      "text/plain": [
       "             DEVELOPER  SENTIMIENTO\n",
       "0  STAINLESS GAMES LTD            1\n",
       "1                VALVE            1\n",
       "2                VALVE            0"
      ]
     },
     "execution_count": 37,
     "metadata": {},
     "output_type": "execute_result"
    }
   ],
   "source": [
    "sent_dev = merged_data.drop(columns=['GENEROS', 'NOMBRE_JUEGO', 'PRECIO', 'ID_GAME', 'AÑO', 'ID_USUARIO', 'AÑO_LANZAMIENTO', 'RECOMIENDA'])\n",
    "sent_dev.head(3)"
   ]
  },
  {
   "cell_type": "code",
   "execution_count": 38,
   "metadata": {},
   "outputs": [],
   "source": [
    "fb.guardar_datos(sent_dev, 'PARQUET\\TABLAS UNIDAS\\SENT_DEV.parquet')"
   ]
  }
 ],
 "metadata": {
  "kernelspec": {
   "display_name": "Python 3",
   "language": "python",
   "name": "python3"
  },
  "language_info": {
   "codemirror_mode": {
    "name": "ipython",
    "version": 3
   },
   "file_extension": ".py",
   "mimetype": "text/x-python",
   "name": "python",
   "nbconvert_exporter": "python",
   "pygments_lexer": "ipython3",
   "version": "3.11.8"
  }
 },
 "nbformat": 4,
 "nbformat_minor": 2
}
