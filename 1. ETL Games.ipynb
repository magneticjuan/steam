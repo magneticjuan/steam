{
 "cells": [
  {
   "cell_type": "markdown",
   "metadata": {},
   "source": [
    "# **ETL Games**\n",
    "\n",
    "<div style=\"text-align: justify\">\n",
    "En este notebook de Python, se detallarán los pasos necesarios para llevar a cabo un proceso de ETL (Extract, Transform, Load) en un dataframe que denominaremos \"games\". Los datos que utilizaremos provienen originalmente de un archivo JSON llamado \"output_steam_games.json\". A lo largo de este documento, se explorarán las etapas de extracción, transformación y carga de datos con el objetivo de preparar el conjunto de datos para su posterior análisis y uso en aplicaciones o modelos de aprendizaje automático.\n",
    "</div>"
   ]
  },
  {
   "cell_type": "markdown",
   "metadata": {},
   "source": [
    "## 1. Importación de las librerias\n",
    "\n",
    "<div style=\"text-align: justify\">\n",
    "Importar bibliotecas en un ETL es esencial para aprovechar las funcionalidades predefinidas que simplifican tareas como la extracción, transformación y carga de datos. Esto ahorra tiempo y esfuerzo, asegurando un desarrollo eficiente y la creación de procesos ETL más sólidos y confiables.\n",
    "</div>"
   ]
  },
  {
   "cell_type": "code",
   "execution_count": 43,
   "metadata": {},
   "outputs": [],
   "source": [
    "import pandas as pd\n",
    "import pyarrow as pa\n",
    "import pyarrow.parquet as pq\n",
    "import funciones_basicas as fb"
   ]
  },
  {
   "cell_type": "markdown",
   "metadata": {},
   "source": [
    "## 2. Carga de los datos\n",
    "\n",
    "En estas lineas de código cargaremos los datos y creamos el dataframe de pandas en el que vamos a realizar el proceso de ETL, todo basado en un arhivo llamado *output_steam_juegos.json*"
   ]
  },
  {
   "cell_type": "code",
   "execution_count": 44,
   "metadata": {},
   "outputs": [
    {
     "data": {
      "text/html": [
       "<div>\n",
       "<style scoped>\n",
       "    .dataframe tbody tr th:only-of-type {\n",
       "        vertical-align: middle;\n",
       "    }\n",
       "\n",
       "    .dataframe tbody tr th {\n",
       "        vertical-align: top;\n",
       "    }\n",
       "\n",
       "    .dataframe thead th {\n",
       "        text-align: right;\n",
       "    }\n",
       "</style>\n",
       "<table border=\"1\" class=\"dataframe\">\n",
       "  <thead>\n",
       "    <tr style=\"text-align: right;\">\n",
       "      <th></th>\n",
       "      <th>publisher</th>\n",
       "      <th>genres</th>\n",
       "      <th>app_name</th>\n",
       "      <th>title</th>\n",
       "      <th>url</th>\n",
       "      <th>release_date</th>\n",
       "      <th>tags</th>\n",
       "      <th>reviews_url</th>\n",
       "      <th>specs</th>\n",
       "      <th>price</th>\n",
       "      <th>early_access</th>\n",
       "      <th>id</th>\n",
       "      <th>developer</th>\n",
       "    </tr>\n",
       "  </thead>\n",
       "  <tbody>\n",
       "    <tr>\n",
       "      <th>0</th>\n",
       "      <td>NaN</td>\n",
       "      <td>NaN</td>\n",
       "      <td>NaN</td>\n",
       "      <td>NaN</td>\n",
       "      <td>NaN</td>\n",
       "      <td>NaN</td>\n",
       "      <td>NaN</td>\n",
       "      <td>NaN</td>\n",
       "      <td>NaN</td>\n",
       "      <td>NaN</td>\n",
       "      <td>NaN</td>\n",
       "      <td>NaN</td>\n",
       "      <td>NaN</td>\n",
       "    </tr>\n",
       "    <tr>\n",
       "      <th>1</th>\n",
       "      <td>NaN</td>\n",
       "      <td>NaN</td>\n",
       "      <td>NaN</td>\n",
       "      <td>NaN</td>\n",
       "      <td>NaN</td>\n",
       "      <td>NaN</td>\n",
       "      <td>NaN</td>\n",
       "      <td>NaN</td>\n",
       "      <td>NaN</td>\n",
       "      <td>NaN</td>\n",
       "      <td>NaN</td>\n",
       "      <td>NaN</td>\n",
       "      <td>NaN</td>\n",
       "    </tr>\n",
       "    <tr>\n",
       "      <th>2</th>\n",
       "      <td>NaN</td>\n",
       "      <td>NaN</td>\n",
       "      <td>NaN</td>\n",
       "      <td>NaN</td>\n",
       "      <td>NaN</td>\n",
       "      <td>NaN</td>\n",
       "      <td>NaN</td>\n",
       "      <td>NaN</td>\n",
       "      <td>NaN</td>\n",
       "      <td>NaN</td>\n",
       "      <td>NaN</td>\n",
       "      <td>NaN</td>\n",
       "      <td>NaN</td>\n",
       "    </tr>\n",
       "    <tr>\n",
       "      <th>3</th>\n",
       "      <td>NaN</td>\n",
       "      <td>NaN</td>\n",
       "      <td>NaN</td>\n",
       "      <td>NaN</td>\n",
       "      <td>NaN</td>\n",
       "      <td>NaN</td>\n",
       "      <td>NaN</td>\n",
       "      <td>NaN</td>\n",
       "      <td>NaN</td>\n",
       "      <td>NaN</td>\n",
       "      <td>NaN</td>\n",
       "      <td>NaN</td>\n",
       "      <td>NaN</td>\n",
       "    </tr>\n",
       "    <tr>\n",
       "      <th>4</th>\n",
       "      <td>NaN</td>\n",
       "      <td>NaN</td>\n",
       "      <td>NaN</td>\n",
       "      <td>NaN</td>\n",
       "      <td>NaN</td>\n",
       "      <td>NaN</td>\n",
       "      <td>NaN</td>\n",
       "      <td>NaN</td>\n",
       "      <td>NaN</td>\n",
       "      <td>NaN</td>\n",
       "      <td>NaN</td>\n",
       "      <td>NaN</td>\n",
       "      <td>NaN</td>\n",
       "    </tr>\n",
       "  </tbody>\n",
       "</table>\n",
       "</div>"
      ],
      "text/plain": [
       "  publisher genres app_name title  url release_date tags reviews_url specs  \\\n",
       "0       NaN    NaN      NaN   NaN  NaN          NaN  NaN         NaN   NaN   \n",
       "1       NaN    NaN      NaN   NaN  NaN          NaN  NaN         NaN   NaN   \n",
       "2       NaN    NaN      NaN   NaN  NaN          NaN  NaN         NaN   NaN   \n",
       "3       NaN    NaN      NaN   NaN  NaN          NaN  NaN         NaN   NaN   \n",
       "4       NaN    NaN      NaN   NaN  NaN          NaN  NaN         NaN   NaN   \n",
       "\n",
       "  price early_access   id developer  \n",
       "0   NaN          NaN  NaN       NaN  \n",
       "1   NaN          NaN  NaN       NaN  \n",
       "2   NaN          NaN  NaN       NaN  \n",
       "3   NaN          NaN  NaN       NaN  \n",
       "4   NaN          NaN  NaN       NaN  "
      ]
     },
     "execution_count": 44,
     "metadata": {},
     "output_type": "execute_result"
    }
   ],
   "source": [
    "ruta_archivo =  \"Datasets\\output_steam_games.json\"\n",
    "nombre_dataframe = 'games'\n",
    "\n",
    "games = fb.cargar_datos_json(ruta_archivo, nombre_dataframe)\n",
    "games.head()"
   ]
  },
  {
   "cell_type": "markdown",
   "metadata": {},
   "source": [
    "## 3. Transformaciones\n",
    "\n",
    "<div style='text-align: justify'>\n",
    "En esta sección realizaremos las primeras transformaciones, estas transformaciones se realizan como una buena practica y son transversales a cualquier tipo de datos no importa su contenido, posterior a esas transformacioens inspeccionaremos a fondo la información del dataframe y realizaremos todos los procesos correspondientes, partiendo de ahi. \n",
    "</div>"
   ]
  },
  {
   "cell_type": "code",
   "execution_count": 45,
   "metadata": {},
   "outputs": [],
   "source": [
    "# En esta linea, eliminaremos todos los datos que no tengan un ID.\n",
    "# La razon para esto es que no podemos rellenar esos datos de ninguna manera y no nos permitiria continuar correctamente\n",
    "# Eliminar filas duplicadas y nulas\n",
    "games = games.dropna(subset=['id']).drop_duplicates(subset=['id']).reset_index(drop=True)"
   ]
  },
  {
   "cell_type": "code",
   "execution_count": 46,
   "metadata": {},
   "outputs": [
    {
     "name": "stdout",
     "output_type": "stream",
     "text": [
      "Porcentaje de datos vacíos por columna en el DataFrame:\n",
      "publisher: 25.06%\n",
      "genres: 10.21%\n",
      "app_name: 0.00%\n",
      "title: 6.38%\n",
      "url: 0.00%\n",
      "release_date: 6.43%\n",
      "tags: 0.50%\n",
      "reviews_url: 0.00%\n",
      "specs: 2.08%\n",
      "price: 4.29%\n",
      "early_access: 0.00%\n",
      "id: 0.00%\n",
      "developer: 10.26%\n",
      "Total de datos vacíos en el DataFrame: 5.02%\n"
     ]
    }
   ],
   "source": [
    "# Ahora verificaremos la cantidad de datos vacios que podemos encontrar en cada una de las columnas\n",
    "fb.porcentaje_datos_vacios(games)"
   ]
  },
  {
   "cell_type": "code",
   "execution_count": 47,
   "metadata": {},
   "outputs": [
    {
     "name": "stdout",
     "output_type": "stream",
     "text": [
      "<class 'pandas.core.frame.DataFrame'>\n",
      "RangeIndex: 32132 entries, 0 to 32131\n",
      "Data columns (total 13 columns):\n",
      " #   Column        Non-Null Count  Dtype \n",
      "---  ------        --------------  ----- \n",
      " 0   publisher     24081 non-null  object\n",
      " 1   genres        28850 non-null  object\n",
      " 2   app_name      32131 non-null  object\n",
      " 3   title         30083 non-null  object\n",
      " 4   url           32132 non-null  object\n",
      " 5   release_date  30066 non-null  object\n",
      " 6   tags          31970 non-null  object\n",
      " 7   reviews_url   32132 non-null  object\n",
      " 8   specs         31463 non-null  object\n",
      " 9   price         30755 non-null  object\n",
      " 10  early_access  32132 non-null  object\n",
      " 11  id            32132 non-null  object\n",
      " 12  developer     28834 non-null  object\n",
      "dtypes: object(13)\n",
      "memory usage: 3.2+ MB\n"
     ]
    }
   ],
   "source": [
    "# Verificamos toda la información de las columnas del dataframe\n",
    "games.info()"
   ]
  },
  {
   "cell_type": "code",
   "execution_count": 48,
   "metadata": {},
   "outputs": [],
   "source": [
    "# Limpieza y manipulación de texto para la columna genres\n",
    "games['genres'] = games['genres'].apply(fb.limpiar_generos)"
   ]
  },
  {
   "cell_type": "code",
   "execution_count": 49,
   "metadata": {},
   "outputs": [],
   "source": [
    "# Normalizar los valores de texto en el DataFrame\n",
    "for columna in games.columns:\n",
    "    if games[columna].dtype == 'object':\n",
    "        games[columna] = games[columna].apply(fb.normalizar_texto)"
   ]
  },
  {
   "cell_type": "code",
   "execution_count": 50,
   "metadata": {},
   "outputs": [],
   "source": [
    "# Reemplazo de valores nulos en columna 'desarrollador' con valores de columna 'editor'\n",
    "games['developer'] = games['developer'].fillna(games['publisher'])\n",
    "\n",
    "# Eliminación de columnas no necesarias\n",
    "games.drop(['publisher', 'early_access', 'url', 'reviews_url', 'title', 'specs', 'tags'], axis=1, inplace=True)\n",
    "\n",
    "# Convertir listas en cadenas separadas por comas\n",
    "games['genres'] = games['genres'].apply(lambda x: ','.join(x) if isinstance(x, list) else x)"
   ]
  },
  {
   "cell_type": "code",
   "execution_count": 51,
   "metadata": {},
   "outputs": [],
   "source": [
    "# Manipulación de fechas\n",
    "games['release_date'] = pd.to_datetime(games['release_date'], errors='coerce')\n",
    "media_fecha = games['release_date'].mean()\n",
    "games['release_date'] = games['release_date'].fillna(media_fecha)\n",
    "games['year'] = games['release_date'].dt.year\n",
    "games.drop('release_date', axis=1, inplace=True)"
   ]
  },
  {
   "cell_type": "code",
   "execution_count": 52,
   "metadata": {},
   "outputs": [],
   "source": [
    "# Conversión de tipos de datos\n",
    "games['price'] = pd.to_numeric(games['price'], errors='coerce')"
   ]
  },
  {
   "cell_type": "code",
   "execution_count": 53,
   "metadata": {},
   "outputs": [],
   "source": [
    "# Agrupar por las columnas \"genres\" y \"release_date\" y calcular la media de los precios\n",
    "precios_por_categoria_y_fecha = games.groupby(['genres', 'year'])['price'].mean()\n",
    "\n",
    "# Rellenar valores nulos en la columna \"price\"\n",
    "games['price'] = games.apply(fb.rellenar_nulos, axis=1, precios_por_categoria_y_fecha=precios_por_categoria_y_fecha)"
   ]
  },
  {
   "cell_type": "code",
   "execution_count": 54,
   "metadata": {},
   "outputs": [
    {
     "name": "stdout",
     "output_type": "stream",
     "text": [
      "Porcentaje de datos vacíos por columna en el DataFrame:\n",
      "genres: 0.00%\n",
      "app_name: 0.00%\n",
      "price: 0.06%\n",
      "id: 0.00%\n",
      "developer: 10.06%\n",
      "year: 0.00%\n",
      "Total de datos vacíos en el DataFrame: 1.69%\n"
     ]
    }
   ],
   "source": [
    "# Por motivos de verificación ahora veremos de nuevo la cantidad de datos vacios\n",
    "fb.porcentaje_datos_vacios(games)"
   ]
  },
  {
   "cell_type": "code",
   "execution_count": 55,
   "metadata": {},
   "outputs": [
    {
     "data": {
      "text/html": [
       "<div>\n",
       "<style scoped>\n",
       "    .dataframe tbody tr th:only-of-type {\n",
       "        vertical-align: middle;\n",
       "    }\n",
       "\n",
       "    .dataframe tbody tr th {\n",
       "        vertical-align: top;\n",
       "    }\n",
       "\n",
       "    .dataframe thead th {\n",
       "        text-align: right;\n",
       "    }\n",
       "</style>\n",
       "<table border=\"1\" class=\"dataframe\">\n",
       "  <thead>\n",
       "    <tr style=\"text-align: right;\">\n",
       "      <th></th>\n",
       "      <th>GENEROS</th>\n",
       "      <th>NOMBRE_JUEGO</th>\n",
       "      <th>PRECIO</th>\n",
       "      <th>ID_GAME</th>\n",
       "      <th>DEVELOPER</th>\n",
       "      <th>AÑO</th>\n",
       "    </tr>\n",
       "  </thead>\n",
       "  <tbody>\n",
       "    <tr>\n",
       "      <th>0</th>\n",
       "      <td>ACTION</td>\n",
       "      <td>LOST SUMMONER KITTY</td>\n",
       "      <td>4.990000</td>\n",
       "      <td>761140</td>\n",
       "      <td>KOTOSHIRO</td>\n",
       "      <td>2018</td>\n",
       "    </tr>\n",
       "    <tr>\n",
       "      <th>1</th>\n",
       "      <td>FREE TO PLAY</td>\n",
       "      <td>IRONBOUND</td>\n",
       "      <td>26.790000</td>\n",
       "      <td>643980</td>\n",
       "      <td>SECRET LEVEL SRL</td>\n",
       "      <td>2018</td>\n",
       "    </tr>\n",
       "    <tr>\n",
       "      <th>2</th>\n",
       "      <td>CASUAL</td>\n",
       "      <td>REAL POOL 3D - POOLIANS</td>\n",
       "      <td>4.801037</td>\n",
       "      <td>670290</td>\n",
       "      <td>POOLIANS.COM</td>\n",
       "      <td>2017</td>\n",
       "    </tr>\n",
       "  </tbody>\n",
       "</table>\n",
       "</div>"
      ],
      "text/plain": [
       "        GENEROS             NOMBRE_JUEGO     PRECIO ID_GAME         DEVELOPER  \\\n",
       "0        ACTION      LOST SUMMONER KITTY   4.990000  761140         KOTOSHIRO   \n",
       "1  FREE TO PLAY                IRONBOUND  26.790000  643980  SECRET LEVEL SRL   \n",
       "2        CASUAL  REAL POOL 3D - POOLIANS   4.801037  670290      POOLIANS.COM   \n",
       "\n",
       "    AÑO  \n",
       "0  2018  \n",
       "1  2018  \n",
       "2  2017  "
      ]
     },
     "execution_count": 55,
     "metadata": {},
     "output_type": "execute_result"
    }
   ],
   "source": [
    "# Ahora para normalizar aun más los datos, cambiaremos el nombre de las columnas para facilitar su entendimiento\n",
    "nuevos_nombres = {'genres': 'GENEROS',\n",
    "                  'app_name': 'NOMBRE_JUEGO',\n",
    "                  'price': 'PRECIO',\n",
    "                  'id': 'ID_GAME',\n",
    "                  'developer': 'DEVELOPER',\n",
    "                  'year': 'AÑO'}\n",
    "\n",
    "games = games.rename(columns=nuevos_nombres)\n",
    "games.head(3)"
   ]
  },
  {
   "cell_type": "markdown",
   "metadata": {},
   "source": [
    "## 4. Guardamos el archivo\n",
    "\n",
    "<div style=\"text-align: justify\">\n",
    "Despues de realizadas todas las transformaciones necesarias para manejar el dataframe en futuros analisis, procedemos a guardar el documento en un formato tipo parquet para que su lectura y escritura sea más sencilla\n",
    "</div>"
   ]
  },
  {
   "cell_type": "code",
   "execution_count": 56,
   "metadata": {},
   "outputs": [],
   "source": [
    "fb.guardar_datos(games, \"PARQUET\\GAMES.parquet\")"
   ]
  }
 ],
 "metadata": {
  "kernelspec": {
   "display_name": "Python 3",
   "language": "python",
   "name": "python3"
  },
  "language_info": {
   "codemirror_mode": {
    "name": "ipython",
    "version": 3
   },
   "file_extension": ".py",
   "mimetype": "text/x-python",
   "name": "python",
   "nbconvert_exporter": "python",
   "pygments_lexer": "ipython3",
   "version": "3.11.8"
  }
 },
 "nbformat": 4,
 "nbformat_minor": 2
}
