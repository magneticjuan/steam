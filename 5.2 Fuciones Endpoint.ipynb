{
 "cells": [
  {
   "cell_type": "markdown",
   "metadata": {},
   "source": [
    "# **Funciones para el Funcionamiento del API**\n",
    "\n",
    "<div style='text-align: justify'>\n",
    "En este archivo, nos enfocaremos en la creación de las funciones necesarias para el funcionamiento del API. Estas funciones serán responsables de manejar las solicitudes entrantes, procesar los datos según sea necesario y devolver las respuestas adecuadas. Utilizaremos diversas herramientas y bibliotecas, como FastAPI, para crear un API robusto y eficiente que pueda ser utilizado para diversos propósitos, desde la gestión de datos hasta la interacción con modelos de aprendizaje automático. A través de la implementación cuidadosa y la documentación adecuada, garantizaremos que nuestro API sea fácil de entender, utilizar y mantener.\n",
    "\n",
    "Estas librerias las importaremos despues en el archivo de funciones_basicas\n",
    "</div>\n"
   ]
  },
  {
   "cell_type": "markdown",
   "metadata": {},
   "source": [
    "## 1. Importamos las librerias"
   ]
  },
  {
   "cell_type": "code",
   "execution_count": 1,
   "metadata": {},
   "outputs": [],
   "source": [
    "import pandas as pd\n",
    "import funciones_basicas as fb\n",
    "import warnings\n",
    "warnings.filterwarnings('ignore')"
   ]
  },
  {
   "cell_type": "markdown",
   "metadata": {},
   "source": [
    "## 2. Cargamos los datos necesarios para los ejemplos de las funciones"
   ]
  },
  {
   "cell_type": "markdown",
   "metadata": {},
   "source": [
    "#### Función DEVELOPER"
   ]
  },
  {
   "cell_type": "code",
   "execution_count": 5,
   "metadata": {},
   "outputs": [
    {
     "data": {
      "text/html": [
       "<div>\n",
       "<style scoped>\n",
       "    .dataframe tbody tr th:only-of-type {\n",
       "        vertical-align: middle;\n",
       "    }\n",
       "\n",
       "    .dataframe tbody tr th {\n",
       "        vertical-align: top;\n",
       "    }\n",
       "\n",
       "    .dataframe thead th {\n",
       "        text-align: right;\n",
       "    }\n",
       "</style>\n",
       "<table border=\"1\" class=\"dataframe\">\n",
       "  <thead>\n",
       "    <tr style=\"text-align: right;\">\n",
       "      <th></th>\n",
       "      <th>PRECIO</th>\n",
       "      <th>ID_GAME</th>\n",
       "      <th>DEVELOPER</th>\n",
       "      <th>AÑO</th>\n",
       "    </tr>\n",
       "  </thead>\n",
       "  <tbody>\n",
       "    <tr>\n",
       "      <th>0</th>\n",
       "      <td>9.99</td>\n",
       "      <td>282010</td>\n",
       "      <td>STAINLESS GAMES LTD</td>\n",
       "      <td>1997</td>\n",
       "    </tr>\n",
       "    <tr>\n",
       "      <th>1</th>\n",
       "      <td>9.99</td>\n",
       "      <td>70</td>\n",
       "      <td>VALVE</td>\n",
       "      <td>1998</td>\n",
       "    </tr>\n",
       "    <tr>\n",
       "      <th>2</th>\n",
       "      <td>9.99</td>\n",
       "      <td>70</td>\n",
       "      <td>VALVE</td>\n",
       "      <td>1998</td>\n",
       "    </tr>\n",
       "  </tbody>\n",
       "</table>\n",
       "</div>"
      ],
      "text/plain": [
       "   PRECIO ID_GAME            DEVELOPER   AÑO\n",
       "0    9.99  282010  STAINLESS GAMES LTD  1997\n",
       "1    9.99      70                VALVE  1998\n",
       "2    9.99      70                VALVE  1998"
      ]
     },
     "execution_count": 5,
     "metadata": {},
     "output_type": "execute_result"
    }
   ],
   "source": [
    "desarrollador = fb.cargar_datos_parquet('PARQUET\\TABLAS UNIDAS\\DESARROLLADOR.parquet')\n",
    "desarrollador.head(3)"
   ]
  },
  {
   "cell_type": "code",
   "execution_count": 54,
   "metadata": {},
   "outputs": [],
   "source": [
    "def developer(desarrollador: str, dataframe: pd.DataFrame):\n",
    "    \"\"\"\n",
    "    Función que devuelve un DataFrame con información detallada sobre la cantidad de elementos y el contenido gratuito lanzado por un desarrollador en cada año registrado en el DataFrame.\n",
    "\n",
    "    Parámetros:\n",
    "        desarrollador (str): El nombre del desarrollador (empresa) del cual se desea obtener información.\n",
    "        dataframe (pd.DataFrame): El DataFrame que contiene los datos.\n",
    "\n",
    "    Retorna:\n",
    "        pd.DataFrame: Un DataFrame con las columnas \"AÑO_LANZAMIENTO\" (año de lanzamiento), \"CANTIDAD DE JUEGOS\" (total de elementos lanzados) y \"CONTENIDO FREE\" (porcentaje de contenido gratuito lanzado).\n",
    "    \"\"\"\n",
    "    listaaños = dataframe['AÑO'].unique()  # Almaceno en una variable los valores únicos del campo Año\n",
    "    listadeveloper = dataframe['DEVELOPER'].unique()  # Almaceno en una variable los valores únicos del campo developer\n",
    "\n",
    "    lista = []\n",
    "\n",
    "    if desarrollador in listadeveloper:\n",
    "        for años in listaaños:\n",
    "            todo = len(dataframe[(dataframe['AÑO'] == años) & (dataframe['DEVELOPER'] == desarrollador)])\n",
    "            cantidaditems = len(dataframe[(dataframe['PRECIO'] == 0) & (dataframe['AÑO'] == años) & (dataframe['DEVELOPER'] == desarrollador)])\n",
    "            if todo != 0 or cantidaditems != 0:\n",
    "                porcentaje = f\"{round(cantidaditems*100/todo, 2)}%\"\n",
    "                lista.append([años, cantidaditems, porcentaje])\n",
    "            else:\n",
    "                pass\n",
    "    elif desarrollador not in listadeveloper:\n",
    "        print('No cuento con los registros de esa empresa en mi base de datos')\n",
    "\n",
    "    df = pd.DataFrame(lista, columns=[\"AÑO_LANZAMIENTO\", \"CANTIDAD DE JUEGOS\", \"CONTENIDO FREE\"])  # Crear un DataFrame a partir del diccionario\n",
    "    df.columns = [\"AÑO\", \"CANTIDAD DE JUEGOS\", \"CONTENIDO FREE\"]  # Agregar la fila de encabezado\n",
    "    df = df.sort_values(by='AÑO', ascending=False)\n",
    "    return df\n"
   ]
  },
  {
   "cell_type": "code",
   "execution_count": 56,
   "metadata": {},
   "outputs": [
    {
     "data": {
      "text/html": [
       "<div>\n",
       "<style scoped>\n",
       "    .dataframe tbody tr th:only-of-type {\n",
       "        vertical-align: middle;\n",
       "    }\n",
       "\n",
       "    .dataframe tbody tr th {\n",
       "        vertical-align: top;\n",
       "    }\n",
       "\n",
       "    .dataframe thead th {\n",
       "        text-align: right;\n",
       "    }\n",
       "</style>\n",
       "<table border=\"1\" class=\"dataframe\">\n",
       "  <thead>\n",
       "    <tr style=\"text-align: right;\">\n",
       "      <th></th>\n",
       "      <th>AÑO</th>\n",
       "      <th>CANTIDAD DE JUEGOS</th>\n",
       "      <th>CONTENIDO FREE</th>\n",
       "    </tr>\n",
       "  </thead>\n",
       "  <tbody>\n",
       "    <tr>\n",
       "      <th>1</th>\n",
       "      <td>2011</td>\n",
       "      <td>0</td>\n",
       "      <td>0.0%</td>\n",
       "    </tr>\n",
       "    <tr>\n",
       "      <th>0</th>\n",
       "      <td>1997</td>\n",
       "      <td>0</td>\n",
       "      <td>0.0%</td>\n",
       "    </tr>\n",
       "  </tbody>\n",
       "</table>\n",
       "</div>"
      ],
      "text/plain": [
       "    AÑO  CANTIDAD DE JUEGOS CONTENIDO FREE\n",
       "1  2011                   0           0.0%\n",
       "0  1997                   0           0.0%"
      ]
     },
     "execution_count": 56,
     "metadata": {},
     "output_type": "execute_result"
    }
   ],
   "source": [
    "developer('STAINLESS GAMES LTD', desarrollador)"
   ]
  },
  {
   "cell_type": "markdown",
   "metadata": {},
   "source": [
    "#### Funcion Gasto"
   ]
  },
  {
   "cell_type": "code",
   "execution_count": 13,
   "metadata": {},
   "outputs": [
    {
     "data": {
      "text/html": [
       "<div>\n",
       "<style scoped>\n",
       "    .dataframe tbody tr th:only-of-type {\n",
       "        vertical-align: middle;\n",
       "    }\n",
       "\n",
       "    .dataframe tbody tr th {\n",
       "        vertical-align: top;\n",
       "    }\n",
       "\n",
       "    .dataframe thead th {\n",
       "        text-align: right;\n",
       "    }\n",
       "</style>\n",
       "<table border=\"1\" class=\"dataframe\">\n",
       "  <thead>\n",
       "    <tr style=\"text-align: right;\">\n",
       "      <th></th>\n",
       "      <th>PRECIO</th>\n",
       "      <th>ID_USUARIO</th>\n",
       "      <th>AÑO_LANZAMIENTO</th>\n",
       "      <th>RECOMIENDA</th>\n",
       "    </tr>\n",
       "  </thead>\n",
       "  <tbody>\n",
       "    <tr>\n",
       "      <th>0</th>\n",
       "      <td>9.99</td>\n",
       "      <td>BLAZINGTHEAMAZING</td>\n",
       "      <td>2014</td>\n",
       "      <td>True</td>\n",
       "    </tr>\n",
       "    <tr>\n",
       "      <th>1</th>\n",
       "      <td>9.99</td>\n",
       "      <td>EXIAEZ</td>\n",
       "      <td>2015</td>\n",
       "      <td>True</td>\n",
       "    </tr>\n",
       "    <tr>\n",
       "      <th>2</th>\n",
       "      <td>9.99</td>\n",
       "      <td>MRPFRESH</td>\n",
       "      <td>2011</td>\n",
       "      <td>True</td>\n",
       "    </tr>\n",
       "  </tbody>\n",
       "</table>\n",
       "</div>"
      ],
      "text/plain": [
       "   PRECIO         ID_USUARIO  AÑO_LANZAMIENTO  RECOMIENDA\n",
       "0    9.99  BLAZINGTHEAMAZING             2014        True\n",
       "1    9.99             EXIAEZ             2015        True\n",
       "2    9.99           MRPFRESH             2011        True"
      ]
     },
     "execution_count": 13,
     "metadata": {},
     "output_type": "execute_result"
    }
   ],
   "source": [
    "gasto = fb.cargar_datos_parquet('PARQUET\\TABLAS UNIDAS\\GASTO.parquet')\n",
    "gasto.head(3)"
   ]
  },
  {
   "cell_type": "code",
   "execution_count": 22,
   "metadata": {},
   "outputs": [],
   "source": [
    "def userdata(usuario):\n",
    "    \"\"\"\n",
    "    Retorna un diccionario con información sobre el usuario especificado.\n",
    "\n",
    "    Parámetros:\n",
    "    usuario (str): El identificador del usuario del cual se desea obtener información.\n",
    "\n",
    "    Retorna:\n",
    "    dict: Un diccionario con las siguientes claves:\n",
    "        - \"User\": El identificador del usuario.\n",
    "        - \"Dinero gastado\": La cantidad total de dinero gastado por el usuario en USD, redondeado a 2 decimales.\n",
    "        - \"% de recomendación\": El porcentaje de recomendación calculado como el número de elementos recomendados \n",
    "        dividido por el total de elementos del usuario, expresado como un entero.\n",
    "        - \"cantidad de items\": El número total de elementos del usuario.\n",
    "    \"\"\"\n",
    "    lista = gasto.ID_USUARIO.unique()  # Obtiene una lista de todos los usuarios únicos\n",
    "    if usuario in lista:  # Verifica si el usuario especificado está en la lista de usuarios\n",
    "        dfusuario = gasto[(gasto.ID_USUARIO == usuario)]  # Filtra el DataFrame para obtener solo los datos del usuario especificado\n",
    "        maneyuser = f\"{round(dfusuario.PRECIO.sum(),2)} USD\"  # Calcula el total gastado por el usuario y lo redondea a 2 decimales\n",
    "        recomend = f\"{int(len(dfusuario[dfusuario.RECOMIENDA == 1])*100/len(dfusuario))}%\"  # Calcula el porcentaje de recomendación del usuario\n",
    "        itemss = len(dfusuario)  # Obtiene el número total de elementos del usuario\n",
    "        data = {\n",
    "            \"User\": usuario,\n",
    "            \"Dinero gastado\": maneyuser,\n",
    "            \"% de recomendación\": recomend,\n",
    "            \"cantidad de items\": itemss\n",
    "        }\n",
    "        return data  # Retorna el diccionario con la información del usuario\n"
   ]
  },
  {
   "cell_type": "markdown",
   "metadata": {},
   "source": [
    "#### Funcion USUARIO_GENERO"
   ]
  },
  {
   "cell_type": "code",
   "execution_count": 34,
   "metadata": {},
   "outputs": [
    {
     "data": {
      "text/html": [
       "<div>\n",
       "<style scoped>\n",
       "    .dataframe tbody tr th:only-of-type {\n",
       "        vertical-align: middle;\n",
       "    }\n",
       "\n",
       "    .dataframe tbody tr th {\n",
       "        vertical-align: top;\n",
       "    }\n",
       "\n",
       "    .dataframe thead th {\n",
       "        text-align: right;\n",
       "    }\n",
       "</style>\n",
       "<table border=\"1\" class=\"dataframe\">\n",
       "  <thead>\n",
       "    <tr style=\"text-align: right;\">\n",
       "      <th></th>\n",
       "      <th>GENEROS</th>\n",
       "      <th>ID_USUARIO</th>\n",
       "      <th>AÑO_LANZAMIENTO</th>\n",
       "      <th>HORAS_DE_JUEGO</th>\n",
       "    </tr>\n",
       "  </thead>\n",
       "  <tbody>\n",
       "    <tr>\n",
       "      <th>0</th>\n",
       "      <td>ACTION</td>\n",
       "      <td>MRPFRESH</td>\n",
       "      <td>2011</td>\n",
       "      <td>2.32</td>\n",
       "    </tr>\n",
       "    <tr>\n",
       "      <th>1</th>\n",
       "      <td>ACTION</td>\n",
       "      <td>ARMOUREDMARSHMALLOW</td>\n",
       "      <td>2014</td>\n",
       "      <td>13.13</td>\n",
       "    </tr>\n",
       "    <tr>\n",
       "      <th>2</th>\n",
       "      <td>ACTION</td>\n",
       "      <td>BLUEGILLS</td>\n",
       "      <td>2013</td>\n",
       "      <td>1.07</td>\n",
       "    </tr>\n",
       "  </tbody>\n",
       "</table>\n",
       "</div>"
      ],
      "text/plain": [
       "  GENEROS           ID_USUARIO  AÑO_LANZAMIENTO  HORAS_DE_JUEGO\n",
       "0  ACTION             MRPFRESH             2011            2.32\n",
       "1  ACTION  ARMOUREDMARSHMALLOW             2014           13.13\n",
       "2  ACTION            BLUEGILLS             2013            1.07"
      ]
     },
     "execution_count": 34,
     "metadata": {},
     "output_type": "execute_result"
    }
   ],
   "source": [
    "usuario_genero = fb.cargar_datos_parquet('PARQUET\\\\TABLAS UNIDAS\\\\USUARIO_GENERO.parquet')\n",
    "usuario_genero.head(3)"
   ]
  },
  {
   "cell_type": "code",
   "execution_count": 35,
   "metadata": {},
   "outputs": [],
   "source": [
    "def UserForGenre(genero):  \n",
    "\n",
    "    años = usuario_genero.AÑO_LANZAMIENTO.unique()\n",
    "    lista = []\n",
    "    df_genero = usuario_genero[usuario_genero.GENEROS == genero]\n",
    "    usuario = df_genero.groupby('ID_USUARIO')[\"HORAS_DE_JUEGO\"].sum().idxmax()\n",
    "    for i in años:\n",
    "        df = df_genero[df_genero.AÑO_LANZAMIENTO == i]\n",
    "        usuario2 = df[df.ID_USUARIO == usuario][\"HORAS_DE_JUEGO\"].sum()\n",
    "\n",
    "        lista.append([i,usuario,usuario2])\n",
    "    lista_ordenada = sorted(lista, key=lambda x: x[0], reverse=True)\n",
    "    return lista_ordenada"
   ]
  },
  {
   "cell_type": "code",
   "execution_count": 36,
   "metadata": {},
   "outputs": [
    {
     "data": {
      "text/plain": [
       "[[2015, 'COMPANOTHEMUSLIM', 441.63],\n",
       " [2014, 'COMPANOTHEMUSLIM', 96.08],\n",
       " [2013, 'COMPANOTHEMUSLIM', 34.2],\n",
       " [2012, 'COMPANOTHEMUSLIM', 0.0],\n",
       " [2011, 'COMPANOTHEMUSLIM', 0.0],\n",
       " [2010, 'COMPANOTHEMUSLIM', 0.0]]"
      ]
     },
     "execution_count": 36,
     "metadata": {},
     "output_type": "execute_result"
    }
   ],
   "source": [
    "UserForGenre('RPG')"
   ]
  },
  {
   "cell_type": "markdown",
   "metadata": {},
   "source": [
    "#### Funcion TOP_DEV"
   ]
  },
  {
   "cell_type": "code",
   "execution_count": 37,
   "metadata": {},
   "outputs": [
    {
     "data": {
      "text/html": [
       "<div>\n",
       "<style scoped>\n",
       "    .dataframe tbody tr th:only-of-type {\n",
       "        vertical-align: middle;\n",
       "    }\n",
       "\n",
       "    .dataframe tbody tr th {\n",
       "        vertical-align: top;\n",
       "    }\n",
       "\n",
       "    .dataframe thead th {\n",
       "        text-align: right;\n",
       "    }\n",
       "</style>\n",
       "<table border=\"1\" class=\"dataframe\">\n",
       "  <thead>\n",
       "    <tr style=\"text-align: right;\">\n",
       "      <th></th>\n",
       "      <th>DEVELOPER</th>\n",
       "      <th>AÑO</th>\n",
       "      <th>ID_USUARIO</th>\n",
       "      <th>RECOMIENDA</th>\n",
       "      <th>SENTIMIENTO</th>\n",
       "    </tr>\n",
       "  </thead>\n",
       "  <tbody>\n",
       "    <tr>\n",
       "      <th>0</th>\n",
       "      <td>STAINLESS GAMES LTD</td>\n",
       "      <td>1997</td>\n",
       "      <td>BLAZINGTHEAMAZING</td>\n",
       "      <td>True</td>\n",
       "      <td>1</td>\n",
       "    </tr>\n",
       "    <tr>\n",
       "      <th>1</th>\n",
       "      <td>VALVE</td>\n",
       "      <td>1998</td>\n",
       "      <td>EXIAEZ</td>\n",
       "      <td>True</td>\n",
       "      <td>1</td>\n",
       "    </tr>\n",
       "    <tr>\n",
       "      <th>2</th>\n",
       "      <td>VALVE</td>\n",
       "      <td>1998</td>\n",
       "      <td>MRPFRESH</td>\n",
       "      <td>True</td>\n",
       "      <td>0</td>\n",
       "    </tr>\n",
       "  </tbody>\n",
       "</table>\n",
       "</div>"
      ],
      "text/plain": [
       "             DEVELOPER   AÑO         ID_USUARIO  RECOMIENDA  SENTIMIENTO\n",
       "0  STAINLESS GAMES LTD  1997  BLAZINGTHEAMAZING        True            1\n",
       "1                VALVE  1998             EXIAEZ        True            1\n",
       "2                VALVE  1998           MRPFRESH        True            0"
      ]
     },
     "execution_count": 37,
     "metadata": {},
     "output_type": "execute_result"
    }
   ],
   "source": [
    "top_dev = fb.cargar_datos_parquet('PARQUET\\TABLAS UNIDAS\\TOP_DEV.parquet')\n",
    "top_dev.head(3)"
   ]
  },
  {
   "cell_type": "code",
   "execution_count": 38,
   "metadata": {},
   "outputs": [],
   "source": [
    "def best_developer_year(year):\n",
    "    rango_aceptado = range(2010, 2016)\n",
    "    if year not in rango_aceptado:\n",
    "        return {\"message\": \"Mi base de datos solo tiene registros entre 2010 y 2015\"}\n",
    "    year = int(year)\n",
    "    recom = top_dev[(top_dev.RECOMIENDA == 1) & (top_dev.SENTIMIENTO == 2) & (top_dev.AÑO == year)]\n",
    "    developer_recommendations = recom.groupby(\"DEVELOPER\")[\"RECOMIENDA\"].sum()\n",
    "    top_3_developers = developer_recommendations.nlargest(3)\n",
    "\n",
    "    top_developers_list = []\n",
    "    for rank, (developer, count) in enumerate(top_3_developers.items(), start=1):\n",
    "        top_developers_list.append({\"Puesto \" + str(rank): developer})\n",
    "\n",
    "    return top_developers_list"
   ]
  },
  {
   "cell_type": "code",
   "execution_count": 40,
   "metadata": {},
   "outputs": [
    {
     "data": {
      "text/plain": [
       "[{'Puesto 1': 'FIRAXIS GAMES,ASPYR (MAC, LINUX)'},\n",
       " {'Puesto 2': 'TALEWORLDS ENTERTAINMENT'},\n",
       " {'Puesto 3': 'OBSIDIAN ENTERTAINMENT'}]"
      ]
     },
     "execution_count": 40,
     "metadata": {},
     "output_type": "execute_result"
    }
   ],
   "source": [
    "best_developer_year(2010)"
   ]
  },
  {
   "cell_type": "markdown",
   "metadata": {},
   "source": [
    "#### Funcion SENT_DEV"
   ]
  },
  {
   "cell_type": "code",
   "execution_count": 41,
   "metadata": {},
   "outputs": [
    {
     "data": {
      "text/html": [
       "<div>\n",
       "<style scoped>\n",
       "    .dataframe tbody tr th:only-of-type {\n",
       "        vertical-align: middle;\n",
       "    }\n",
       "\n",
       "    .dataframe tbody tr th {\n",
       "        vertical-align: top;\n",
       "    }\n",
       "\n",
       "    .dataframe thead th {\n",
       "        text-align: right;\n",
       "    }\n",
       "</style>\n",
       "<table border=\"1\" class=\"dataframe\">\n",
       "  <thead>\n",
       "    <tr style=\"text-align: right;\">\n",
       "      <th></th>\n",
       "      <th>DEVELOPER</th>\n",
       "      <th>SENTIMIENTO</th>\n",
       "    </tr>\n",
       "  </thead>\n",
       "  <tbody>\n",
       "    <tr>\n",
       "      <th>0</th>\n",
       "      <td>STAINLESS GAMES LTD</td>\n",
       "      <td>1</td>\n",
       "    </tr>\n",
       "    <tr>\n",
       "      <th>1</th>\n",
       "      <td>VALVE</td>\n",
       "      <td>1</td>\n",
       "    </tr>\n",
       "    <tr>\n",
       "      <th>2</th>\n",
       "      <td>VALVE</td>\n",
       "      <td>0</td>\n",
       "    </tr>\n",
       "  </tbody>\n",
       "</table>\n",
       "</div>"
      ],
      "text/plain": [
       "             DEVELOPER  SENTIMIENTO\n",
       "0  STAINLESS GAMES LTD            1\n",
       "1                VALVE            1\n",
       "2                VALVE            0"
      ]
     },
     "execution_count": 41,
     "metadata": {},
     "output_type": "execute_result"
    }
   ],
   "source": [
    "sent_dev = fb.cargar_datos_parquet('PARQUET\\TABLAS UNIDAS\\SENT_DEV.parquet')\n",
    "sent_dev.head(3)"
   ]
  },
  {
   "cell_type": "code",
   "execution_count": 44,
   "metadata": {},
   "outputs": [],
   "source": [
    "def developer_reviews_analysis(desarrolladora):#: str, df_games_and_reviews: pd.DataFrame):\n",
    "    # Filtramos por desarrolladora\n",
    "    df_filt_developer = sent_dev[(sent_dev['DEVELOPER'] == desarrolladora) & (sent_dev['SENTIMIENTO'] != 1)]\n",
    "    # Verificamos que haya datos para la desarrolladora\n",
    "    if not df_filt_developer.empty:\n",
    "        # Contamos los sentimientos y mapeamos el número del sentimiento a su etiqueta correspondiente\n",
    "        sentiment_counts = df_filt_developer['SENTIMIENTO'].value_counts()\n",
    "        sentiment_mapping = {0: 'Negativo', 2: 'Positivo'}\n",
    "        sentiment_counts.index = sentiment_counts.index.map(sentiment_mapping)\n",
    "        \n",
    "        result = {desarrolladora: sentiment_counts.to_dict()}\n",
    "    else:\n",
    "        result = 'No cuento con los registros de esa empresa en mi base de datos'\n",
    "\n",
    "    return result"
   ]
  },
  {
   "cell_type": "code",
   "execution_count": 45,
   "metadata": {},
   "outputs": [
    {
     "data": {
      "text/plain": [
       "{'VALVE': {'Positivo': 5344, 'Negativo': 614}}"
      ]
     },
     "execution_count": 45,
     "metadata": {},
     "output_type": "execute_result"
    }
   ],
   "source": [
    "developer_reviews_analysis('VALVE')"
   ]
  }
 ],
 "metadata": {
  "kernelspec": {
   "display_name": "Python 3",
   "language": "python",
   "name": "python3"
  },
  "language_info": {
   "codemirror_mode": {
    "name": "ipython",
    "version": 3
   },
   "file_extension": ".py",
   "mimetype": "text/x-python",
   "name": "python",
   "nbconvert_exporter": "python",
   "pygments_lexer": "ipython3",
   "version": "3.11.8"
  }
 },
 "nbformat": 4,
 "nbformat_minor": 2
}
